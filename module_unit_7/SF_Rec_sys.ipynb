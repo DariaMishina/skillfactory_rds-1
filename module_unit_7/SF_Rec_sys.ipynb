{
  "nbformat": 4,
  "nbformat_minor": 0,
  "metadata": {
    "colab": {
      "name": "SF_Rec_sys.ipynb",
      "provenance": [],
      "collapsed_sections": []
    },
    "kernelspec": {
      "name": "python3",
      "display_name": "Python 3"
    }
  },
  "cells": [
    {
      "cell_type": "markdown",
      "metadata": {
        "id": "YAldJNCaadg9"
      },
      "source": [
        "Подключим гугл диск"
      ]
    },
    {
      "cell_type": "code",
      "metadata": {
        "id": "O9liWZfraVTp",
        "outputId": "99bc42d8-441e-457f-8da4-1a6213cd315b",
        "colab": {
          "base_uri": "https://localhost:8080/"
        }
      },
      "source": [
        "from google.colab import drive\n",
        "drive.mount('/content/gdrive', force_remount=True)"
      ],
      "execution_count": 1,
      "outputs": [
        {
          "output_type": "stream",
          "text": [
            "Mounted at /content/gdrive\n"
          ],
          "name": "stdout"
        }
      ]
    },
    {
      "cell_type": "code",
      "metadata": {
        "id": "UTuR7ExOa3Bv",
        "outputId": "9208431a-240a-447b-bba7-8e0a2ffae7c0",
        "colab": {
          "base_uri": "https://localhost:8080/"
        }
      },
      "source": [
        "cd /content/gdrive/My Drive/Colab Notebooks/SF/Unit_7_Rec_sys/"
      ],
      "execution_count": 2,
      "outputs": [
        {
          "output_type": "stream",
          "text": [
            "/content/gdrive/My Drive/Colab Notebooks/SF/Unit_7_Rec_sys\n"
          ],
          "name": "stdout"
        }
      ]
    },
    {
      "cell_type": "markdown",
      "metadata": {
        "id": "c23P4OPobfmz"
      },
      "source": [
        "# Рекомендательные системы\n",
        "## Цель проекта: Увеличить средний чек интернет-магазина с помощью рекомендаций пользователям дополнительных товаров."
      ]
    },
    {
      "cell_type": "markdown",
      "metadata": {
        "id": "J3GEe8v-cS_z"
      },
      "source": [
        "## Создадим базовую модель.\n",
        "Аналогично демонстрационному ноутбуку \"baseline_logreg\". Далее будем её улучшать."
      ]
    },
    {
      "cell_type": "markdown",
      "metadata": {
        "id": "vPGqDD6FdA8I"
      },
      "source": [
        "### Необходимые библиотеки"
      ]
    },
    {
      "cell_type": "code",
      "metadata": {
        "id": "NfgfT7TbCJso",
        "outputId": "4402b75f-794a-4c27-851a-d14fabc4b93f",
        "colab": {
          "base_uri": "https://localhost:8080/"
        }
      },
      "source": [
        "pip install lightfm"
      ],
      "execution_count": 3,
      "outputs": [
        {
          "output_type": "stream",
          "text": [
            "Collecting lightfm\n",
            "\u001b[?25l  Downloading https://files.pythonhosted.org/packages/e9/8e/5485ac5a8616abe1c673d1e033e2f232b4319ab95424b42499fabff2257f/lightfm-1.15.tar.gz (302kB)\n",
            "\r\u001b[K     |█                               | 10kB 18.0MB/s eta 0:00:01\r\u001b[K     |██▏                             | 20kB 6.4MB/s eta 0:00:01\r\u001b[K     |███▎                            | 30kB 7.0MB/s eta 0:00:01\r\u001b[K     |████▍                           | 40kB 8.4MB/s eta 0:00:01\r\u001b[K     |█████▍                          | 51kB 6.7MB/s eta 0:00:01\r\u001b[K     |██████▌                         | 61kB 7.8MB/s eta 0:00:01\r\u001b[K     |███████▋                        | 71kB 8.3MB/s eta 0:00:01\r\u001b[K     |████████▊                       | 81kB 8.4MB/s eta 0:00:01\r\u001b[K     |█████████▊                      | 92kB 9.3MB/s eta 0:00:01\r\u001b[K     |██████████▉                     | 102kB 8.8MB/s eta 0:00:01\r\u001b[K     |████████████                    | 112kB 8.8MB/s eta 0:00:01\r\u001b[K     |█████████████                   | 122kB 8.8MB/s eta 0:00:01\r\u001b[K     |██████████████                  | 133kB 8.8MB/s eta 0:00:01\r\u001b[K     |███████████████▏                | 143kB 8.8MB/s eta 0:00:01\r\u001b[K     |████████████████▎               | 153kB 8.8MB/s eta 0:00:01\r\u001b[K     |█████████████████▍              | 163kB 8.8MB/s eta 0:00:01\r\u001b[K     |██████████████████▍             | 174kB 8.8MB/s eta 0:00:01\r\u001b[K     |███████████████████▌            | 184kB 8.8MB/s eta 0:00:01\r\u001b[K     |████████████████████▋           | 194kB 8.8MB/s eta 0:00:01\r\u001b[K     |█████████████████████▊          | 204kB 8.8MB/s eta 0:00:01\r\u001b[K     |██████████████████████▊         | 215kB 8.8MB/s eta 0:00:01\r\u001b[K     |███████████████████████▉        | 225kB 8.8MB/s eta 0:00:01\r\u001b[K     |█████████████████████████       | 235kB 8.8MB/s eta 0:00:01\r\u001b[K     |██████████████████████████      | 245kB 8.8MB/s eta 0:00:01\r\u001b[K     |███████████████████████████     | 256kB 8.8MB/s eta 0:00:01\r\u001b[K     |████████████████████████████▏   | 266kB 8.8MB/s eta 0:00:01\r\u001b[K     |█████████████████████████████▎  | 276kB 8.8MB/s eta 0:00:01\r\u001b[K     |██████████████████████████████▍ | 286kB 8.8MB/s eta 0:00:01\r\u001b[K     |███████████████████████████████▍| 296kB 8.8MB/s eta 0:00:01\r\u001b[K     |████████████████████████████████| 307kB 8.8MB/s \n",
            "\u001b[?25hRequirement already satisfied: numpy in /usr/local/lib/python3.6/dist-packages (from lightfm) (1.18.5)\n",
            "Requirement already satisfied: scipy>=0.17.0 in /usr/local/lib/python3.6/dist-packages (from lightfm) (1.4.1)\n",
            "Requirement already satisfied: requests in /usr/local/lib/python3.6/dist-packages (from lightfm) (2.23.0)\n",
            "Requirement already satisfied: idna<3,>=2.5 in /usr/local/lib/python3.6/dist-packages (from requests->lightfm) (2.10)\n",
            "Requirement already satisfied: certifi>=2017.4.17 in /usr/local/lib/python3.6/dist-packages (from requests->lightfm) (2020.6.20)\n",
            "Requirement already satisfied: chardet<4,>=3.0.2 in /usr/local/lib/python3.6/dist-packages (from requests->lightfm) (3.0.4)\n",
            "Requirement already satisfied: urllib3!=1.25.0,!=1.25.1,<1.26,>=1.21.1 in /usr/local/lib/python3.6/dist-packages (from requests->lightfm) (1.24.3)\n",
            "Building wheels for collected packages: lightfm\n",
            "  Building wheel for lightfm (setup.py) ... \u001b[?25l\u001b[?25hdone\n",
            "  Created wheel for lightfm: filename=lightfm-1.15-cp36-cp36m-linux_x86_64.whl size=709151 sha256=afe96caf8fb1835f4be85a2f5a3351c7eaf918181cb0aa3e0b92fa3925f5d88f\n",
            "  Stored in directory: /root/.cache/pip/wheels/eb/bb/ac/188385a5da6627956be5d9663928483b36da576149ab5b8f79\n",
            "Successfully built lightfm\n",
            "Installing collected packages: lightfm\n",
            "Successfully installed lightfm-1.15\n"
          ],
          "name": "stdout"
        }
      ]
    },
    {
      "cell_type": "code",
      "metadata": {
        "id": "Lk68XW75Z_AB",
        "outputId": "9fe5d56e-978f-44d9-a22a-4ee706e81cfb",
        "colab": {
          "base_uri": "https://localhost:8080/"
        }
      },
      "source": [
        "pip install surprise"
      ],
      "execution_count": 4,
      "outputs": [
        {
          "output_type": "stream",
          "text": [
            "Collecting surprise\n",
            "  Downloading https://files.pythonhosted.org/packages/61/de/e5cba8682201fcf9c3719a6fdda95693468ed061945493dea2dd37c5618b/surprise-0.1-py2.py3-none-any.whl\n",
            "Collecting scikit-surprise\n",
            "\u001b[?25l  Downloading https://files.pythonhosted.org/packages/97/37/5d334adaf5ddd65da99fc65f6507e0e4599d092ba048f4302fe8775619e8/scikit-surprise-1.1.1.tar.gz (11.8MB)\n",
            "\u001b[K     |████████████████████████████████| 11.8MB 7.0MB/s \n",
            "\u001b[?25hRequirement already satisfied: joblib>=0.11 in /usr/local/lib/python3.6/dist-packages (from scikit-surprise->surprise) (0.17.0)\n",
            "Requirement already satisfied: numpy>=1.11.2 in /usr/local/lib/python3.6/dist-packages (from scikit-surprise->surprise) (1.18.5)\n",
            "Requirement already satisfied: scipy>=1.0.0 in /usr/local/lib/python3.6/dist-packages (from scikit-surprise->surprise) (1.4.1)\n",
            "Requirement already satisfied: six>=1.10.0 in /usr/local/lib/python3.6/dist-packages (from scikit-surprise->surprise) (1.15.0)\n",
            "Building wheels for collected packages: scikit-surprise\n",
            "  Building wheel for scikit-surprise (setup.py) ... \u001b[?25l\u001b[?25hdone\n",
            "  Created wheel for scikit-surprise: filename=scikit_surprise-1.1.1-cp36-cp36m-linux_x86_64.whl size=1670927 sha256=134a818afb612df4ba793f4e9ce70b57fa58490f4149ddfc705dd7e3fb559ff6\n",
            "  Stored in directory: /root/.cache/pip/wheels/78/9c/3d/41b419c9d2aff5b6e2b4c0fc8d25c538202834058f9ed110d0\n",
            "Successfully built scikit-surprise\n",
            "Installing collected packages: scikit-surprise, surprise\n",
            "Successfully installed scikit-surprise-1.1.1 surprise-0.1\n"
          ],
          "name": "stdout"
        }
      ]
    },
    {
      "cell_type": "code",
      "metadata": {
        "id": "zJu7hiiFbXdN"
      },
      "source": [
        "import pandas as pd\n",
        "import numpy as np\n",
        "\n",
        "import scipy.sparse as sparse\n",
        "\n",
        "from lightfm import LightFM\n",
        "from lightfm.cross_validation import random_train_test_split\n",
        "from lightfm.evaluation import auc_score, precision_at_k, recall_at_k\n",
        "from lightfm.data import Dataset as DS\n",
        "import sklearn\n",
        "from sklearn.model_selection import train_test_split\n",
        "from surprise.model_selection import GridSearchCV\n",
        "\n",
        "import surprise\n",
        "from surprise import SVD\n",
        "from surprise import Reader, Dataset, KNNBasic\n",
        "from collections import defaultdict\n",
        "\n",
        "import matplotlib.pyplot as plt\n",
        "import seaborn as sns\n",
        "%matplotlib inline"
      ],
      "execution_count": 5,
      "outputs": []
    },
    {
      "cell_type": "markdown",
      "metadata": {
        "id": "LjdN0Wlgep4i"
      },
      "source": [
        "### Data"
      ]
    },
    {
      "cell_type": "code",
      "metadata": {
        "id": "VosqqPrAeXJq",
        "outputId": "26f5d7c0-9eeb-47a7-b544-5f7fc42a2571",
        "colab": {
          "base_uri": "https://localhost:8080/"
        }
      },
      "source": [
        "train = pd.read_csv('kaggle_data/train.csv')\n",
        "test = pd.read_csv('kaggle_data/test.csv')\n",
        "submission = pd.read_csv('kaggle_data/sample_submission.csv')"
      ],
      "execution_count": 6,
      "outputs": [
        {
          "output_type": "stream",
          "text": [
            "/usr/local/lib/python3.6/dist-packages/IPython/core/interactiveshell.py:2718: DtypeWarning: Columns (8) have mixed types.Specify dtype option on import or set low_memory=False.\n",
            "  interactivity=interactivity, compiler=compiler, result=result)\n",
            "/usr/local/lib/python3.6/dist-packages/IPython/core/interactiveshell.py:2718: DtypeWarning: Columns (5) have mixed types.Specify dtype option on import or set low_memory=False.\n",
            "  interactivity=interactivity, compiler=compiler, result=result)\n"
          ],
          "name": "stderr"
        }
      ]
    },
    {
      "cell_type": "code",
      "metadata": {
        "id": "KX0THmAcfbX4",
        "outputId": "a311db4b-2540-4647-f042-343368cefb02",
        "colab": {
          "base_uri": "https://localhost:8080/",
          "height": 487
        }
      },
      "source": [
        "train"
      ],
      "execution_count": 7,
      "outputs": [
        {
          "output_type": "execute_result",
          "data": {
            "text/html": [
              "<div>\n",
              "<style scoped>\n",
              "    .dataframe tbody tr th:only-of-type {\n",
              "        vertical-align: middle;\n",
              "    }\n",
              "\n",
              "    .dataframe tbody tr th {\n",
              "        vertical-align: top;\n",
              "    }\n",
              "\n",
              "    .dataframe thead th {\n",
              "        text-align: right;\n",
              "    }\n",
              "</style>\n",
              "<table border=\"1\" class=\"dataframe\">\n",
              "  <thead>\n",
              "    <tr style=\"text-align: right;\">\n",
              "      <th></th>\n",
              "      <th>overall</th>\n",
              "      <th>verified</th>\n",
              "      <th>reviewTime</th>\n",
              "      <th>asin</th>\n",
              "      <th>reviewerName</th>\n",
              "      <th>reviewText</th>\n",
              "      <th>summary</th>\n",
              "      <th>unixReviewTime</th>\n",
              "      <th>vote</th>\n",
              "      <th>style</th>\n",
              "      <th>image</th>\n",
              "      <th>userid</th>\n",
              "      <th>itemid</th>\n",
              "      <th>rating</th>\n",
              "    </tr>\n",
              "  </thead>\n",
              "  <tbody>\n",
              "    <tr>\n",
              "      <th>0</th>\n",
              "      <td>5.0</td>\n",
              "      <td>True</td>\n",
              "      <td>10 4, 2016</td>\n",
              "      <td>B01CPNIEQG</td>\n",
              "      <td>Heather</td>\n",
              "      <td>These are my FAVORITE spices in my collection....</td>\n",
              "      <td>Must Add to your Spice kitchen!</td>\n",
              "      <td>1475539200</td>\n",
              "      <td>NaN</td>\n",
              "      <td>NaN</td>\n",
              "      <td>NaN</td>\n",
              "      <td>102179</td>\n",
              "      <td>37138</td>\n",
              "      <td>1.0</td>\n",
              "    </tr>\n",
              "    <tr>\n",
              "      <th>1</th>\n",
              "      <td>5.0</td>\n",
              "      <td>True</td>\n",
              "      <td>03 1, 2016</td>\n",
              "      <td>B006F63M8U</td>\n",
              "      <td>Linda Odom</td>\n",
              "      <td>Add A package to my Coffee and it makes a good...</td>\n",
              "      <td>Milk Chocolate Swiis MIss Hot Cocoa Mix</td>\n",
              "      <td>1456790400</td>\n",
              "      <td>NaN</td>\n",
              "      <td>{'Size:': ' 60-0.73 oz Envelopes'}</td>\n",
              "      <td>NaN</td>\n",
              "      <td>3625</td>\n",
              "      <td>17322</td>\n",
              "      <td>1.0</td>\n",
              "    </tr>\n",
              "    <tr>\n",
              "      <th>2</th>\n",
              "      <td>5.0</td>\n",
              "      <td>True</td>\n",
              "      <td>06 26, 2016</td>\n",
              "      <td>B00112O8NG</td>\n",
              "      <td>DesertBlossom</td>\n",
              "      <td>I love the Torani syrups, but not the prices o...</td>\n",
              "      <td>Love these sugar free syrups, but didn't love ...</td>\n",
              "      <td>1466899200</td>\n",
              "      <td>28</td>\n",
              "      <td>NaN</td>\n",
              "      <td>NaN</td>\n",
              "      <td>39495</td>\n",
              "      <td>5600</td>\n",
              "      <td>1.0</td>\n",
              "    </tr>\n",
              "    <tr>\n",
              "      <th>3</th>\n",
              "      <td>5.0</td>\n",
              "      <td>True</td>\n",
              "      <td>09 5, 2013</td>\n",
              "      <td>B00MRAQUM8</td>\n",
              "      <td>Connie L. Reaves</td>\n",
              "      <td>Very fragrant. The price can't be beat. I do l...</td>\n",
              "      <td>Nice !</td>\n",
              "      <td>1378339200</td>\n",
              "      <td>NaN</td>\n",
              "      <td>NaN</td>\n",
              "      <td>NaN</td>\n",
              "      <td>72854</td>\n",
              "      <td>30249</td>\n",
              "      <td>1.0</td>\n",
              "    </tr>\n",
              "    <tr>\n",
              "      <th>4</th>\n",
              "      <td>5.0</td>\n",
              "      <td>True</td>\n",
              "      <td>09 14, 2016</td>\n",
              "      <td>B000R7RN0G</td>\n",
              "      <td>Mike P.</td>\n",
              "      <td>These are my favorite jalapeno chips so far. T...</td>\n",
              "      <td>These are my favorite jalapeno chips so far</td>\n",
              "      <td>1473811200</td>\n",
              "      <td>NaN</td>\n",
              "      <td>{'Flavor:': ' Jalapeo'}</td>\n",
              "      <td>NaN</td>\n",
              "      <td>74859</td>\n",
              "      <td>4349</td>\n",
              "      <td>1.0</td>\n",
              "    </tr>\n",
              "    <tr>\n",
              "      <th>...</th>\n",
              "      <td>...</td>\n",
              "      <td>...</td>\n",
              "      <td>...</td>\n",
              "      <td>...</td>\n",
              "      <td>...</td>\n",
              "      <td>...</td>\n",
              "      <td>...</td>\n",
              "      <td>...</td>\n",
              "      <td>...</td>\n",
              "      <td>...</td>\n",
              "      <td>...</td>\n",
              "      <td>...</td>\n",
              "      <td>...</td>\n",
              "      <td>...</td>\n",
              "    </tr>\n",
              "    <tr>\n",
              "      <th>857890</th>\n",
              "      <td>5.0</td>\n",
              "      <td>True</td>\n",
              "      <td>04 2, 2013</td>\n",
              "      <td>B000H7ELTW</td>\n",
              "      <td>chezlouise</td>\n",
              "      <td>Next to the round variety hanging on my cherry...</td>\n",
              "      <td>next to the round variety............</td>\n",
              "      <td>1364860800</td>\n",
              "      <td>NaN</td>\n",
              "      <td>{'Flavor:': ' Dried Cherries'}</td>\n",
              "      <td>NaN</td>\n",
              "      <td>59433</td>\n",
              "      <td>2566</td>\n",
              "      <td>1.0</td>\n",
              "    </tr>\n",
              "    <tr>\n",
              "      <th>857891</th>\n",
              "      <td>2.0</td>\n",
              "      <td>True</td>\n",
              "      <td>12 13, 2015</td>\n",
              "      <td>B0012NI02O</td>\n",
              "      <td>Robert F. O&amp;#039;Bryan</td>\n",
              "      <td>Not my cup of tea.</td>\n",
              "      <td>Two Stars</td>\n",
              "      <td>1449964800</td>\n",
              "      <td>NaN</td>\n",
              "      <td>{'Package Quantity:': ' 1'}</td>\n",
              "      <td>NaN</td>\n",
              "      <td>86473</td>\n",
              "      <td>5828</td>\n",
              "      <td>0.0</td>\n",
              "    </tr>\n",
              "    <tr>\n",
              "      <th>857892</th>\n",
              "      <td>4.0</td>\n",
              "      <td>False</td>\n",
              "      <td>09 21, 2016</td>\n",
              "      <td>B000LKX6R8</td>\n",
              "      <td>bamboo grove</td>\n",
              "      <td>I really like these noodles, I just gave it on...</td>\n",
              "      <td>good but better value elsewhere</td>\n",
              "      <td>1474416000</td>\n",
              "      <td>NaN</td>\n",
              "      <td>{'Size:': ' Pack of 8'}</td>\n",
              "      <td>NaN</td>\n",
              "      <td>88</td>\n",
              "      <td>3251</td>\n",
              "      <td>1.0</td>\n",
              "    </tr>\n",
              "    <tr>\n",
              "      <th>857893</th>\n",
              "      <td>4.0</td>\n",
              "      <td>True</td>\n",
              "      <td>11 1, 2015</td>\n",
              "      <td>B00BUKL666</td>\n",
              "      <td>Speedway91</td>\n",
              "      <td>I like these, they are the kind for a snack an...</td>\n",
              "      <td>Great selection</td>\n",
              "      <td>1446336000</td>\n",
              "      <td>NaN</td>\n",
              "      <td>NaN</td>\n",
              "      <td>NaN</td>\n",
              "      <td>41540</td>\n",
              "      <td>22208</td>\n",
              "      <td>1.0</td>\n",
              "    </tr>\n",
              "    <tr>\n",
              "      <th>857894</th>\n",
              "      <td>5.0</td>\n",
              "      <td>True</td>\n",
              "      <td>08 3, 2017</td>\n",
              "      <td>B000JJHDVG</td>\n",
              "      <td>Elizabeth E. Castor</td>\n",
              "      <td>Like this product.  Its great in the shaker fo...</td>\n",
              "      <td>Five Stars</td>\n",
              "      <td>1501718400</td>\n",
              "      <td>NaN</td>\n",
              "      <td>NaN</td>\n",
              "      <td>NaN</td>\n",
              "      <td>466</td>\n",
              "      <td>2931</td>\n",
              "      <td>1.0</td>\n",
              "    </tr>\n",
              "  </tbody>\n",
              "</table>\n",
              "<p>857895 rows × 14 columns</p>\n",
              "</div>"
            ],
            "text/plain": [
              "        overall  verified   reviewTime  ...  userid itemid rating\n",
              "0           5.0      True   10 4, 2016  ...  102179  37138    1.0\n",
              "1           5.0      True   03 1, 2016  ...    3625  17322    1.0\n",
              "2           5.0      True  06 26, 2016  ...   39495   5600    1.0\n",
              "3           5.0      True   09 5, 2013  ...   72854  30249    1.0\n",
              "4           5.0      True  09 14, 2016  ...   74859   4349    1.0\n",
              "...         ...       ...          ...  ...     ...    ...    ...\n",
              "857890      5.0      True   04 2, 2013  ...   59433   2566    1.0\n",
              "857891      2.0      True  12 13, 2015  ...   86473   5828    0.0\n",
              "857892      4.0     False  09 21, 2016  ...      88   3251    1.0\n",
              "857893      4.0      True   11 1, 2015  ...   41540  22208    1.0\n",
              "857894      5.0      True   08 3, 2017  ...     466   2931    1.0\n",
              "\n",
              "[857895 rows x 14 columns]"
            ]
          },
          "metadata": {
            "tags": []
          },
          "execution_count": 7
        }
      ]
    },
    {
      "cell_type": "code",
      "metadata": {
        "id": "2ds3Y2wSfoCi",
        "outputId": "ebe58b0c-774e-4490-a175-0778e81202cb",
        "colab": {
          "base_uri": "https://localhost:8080/",
          "height": 419
        }
      },
      "source": [
        "test"
      ],
      "execution_count": 8,
      "outputs": [
        {
          "output_type": "execute_result",
          "data": {
            "text/html": [
              "<div>\n",
              "<style scoped>\n",
              "    .dataframe tbody tr th:only-of-type {\n",
              "        vertical-align: middle;\n",
              "    }\n",
              "\n",
              "    .dataframe tbody tr th {\n",
              "        vertical-align: top;\n",
              "    }\n",
              "\n",
              "    .dataframe thead th {\n",
              "        text-align: right;\n",
              "    }\n",
              "</style>\n",
              "<table border=\"1\" class=\"dataframe\">\n",
              "  <thead>\n",
              "    <tr style=\"text-align: right;\">\n",
              "      <th></th>\n",
              "      <th>verified</th>\n",
              "      <th>reviewTime</th>\n",
              "      <th>asin</th>\n",
              "      <th>reviewerName</th>\n",
              "      <th>unixReviewTime</th>\n",
              "      <th>vote</th>\n",
              "      <th>style</th>\n",
              "      <th>image</th>\n",
              "      <th>userid</th>\n",
              "      <th>itemid</th>\n",
              "      <th>Id</th>\n",
              "    </tr>\n",
              "  </thead>\n",
              "  <tbody>\n",
              "    <tr>\n",
              "      <th>0</th>\n",
              "      <td>True</td>\n",
              "      <td>10 1, 2016</td>\n",
              "      <td>B001E5E3X0</td>\n",
              "      <td>Rudys Mom</td>\n",
              "      <td>1475280000</td>\n",
              "      <td>NaN</td>\n",
              "      <td>NaN</td>\n",
              "      <td>NaN</td>\n",
              "      <td>68877</td>\n",
              "      <td>7506</td>\n",
              "      <td>0</td>\n",
              "    </tr>\n",
              "    <tr>\n",
              "      <th>1</th>\n",
              "      <td>True</td>\n",
              "      <td>06 29, 2014</td>\n",
              "      <td>B005BYXX5E</td>\n",
              "      <td>pharg</td>\n",
              "      <td>1404000000</td>\n",
              "      <td>2</td>\n",
              "      <td>NaN</td>\n",
              "      <td>NaN</td>\n",
              "      <td>50442</td>\n",
              "      <td>15530</td>\n",
              "      <td>1</td>\n",
              "    </tr>\n",
              "    <tr>\n",
              "      <th>2</th>\n",
              "      <td>True</td>\n",
              "      <td>05 19, 2015</td>\n",
              "      <td>B0052OK6OO</td>\n",
              "      <td>dhalex</td>\n",
              "      <td>1431993600</td>\n",
              "      <td>NaN</td>\n",
              "      <td>NaN</td>\n",
              "      <td>NaN</td>\n",
              "      <td>64349</td>\n",
              "      <td>15049</td>\n",
              "      <td>2</td>\n",
              "    </tr>\n",
              "    <tr>\n",
              "      <th>3</th>\n",
              "      <td>True</td>\n",
              "      <td>10 5, 2014</td>\n",
              "      <td>B003SO8HGE</td>\n",
              "      <td>Vanessa</td>\n",
              "      <td>1412467200</td>\n",
              "      <td>NaN</td>\n",
              "      <td>{'Flavor:': ' Sweet Rose'}</td>\n",
              "      <td>NaN</td>\n",
              "      <td>26206</td>\n",
              "      <td>11957</td>\n",
              "      <td>3</td>\n",
              "    </tr>\n",
              "    <tr>\n",
              "      <th>4</th>\n",
              "      <td>True</td>\n",
              "      <td>11 11, 2013</td>\n",
              "      <td>B003XUJ564</td>\n",
              "      <td>R Mohrman</td>\n",
              "      <td>1384128000</td>\n",
              "      <td>3</td>\n",
              "      <td>{'Size:': ' 15 Ounce (Pack of 12)', 'Flavor:':...</td>\n",
              "      <td>NaN</td>\n",
              "      <td>59366</td>\n",
              "      <td>12173</td>\n",
              "      <td>4</td>\n",
              "    </tr>\n",
              "    <tr>\n",
              "      <th>...</th>\n",
              "      <td>...</td>\n",
              "      <td>...</td>\n",
              "      <td>...</td>\n",
              "      <td>...</td>\n",
              "      <td>...</td>\n",
              "      <td>...</td>\n",
              "      <td>...</td>\n",
              "      <td>...</td>\n",
              "      <td>...</td>\n",
              "      <td>...</td>\n",
              "      <td>...</td>\n",
              "    </tr>\n",
              "    <tr>\n",
              "      <th>285960</th>\n",
              "      <td>True</td>\n",
              "      <td>01 17, 2016</td>\n",
              "      <td>B00FLD3X28</td>\n",
              "      <td>A. Banks</td>\n",
              "      <td>1452988800</td>\n",
              "      <td>NaN</td>\n",
              "      <td>{'Size:': ' 1 Pound'}</td>\n",
              "      <td>NaN</td>\n",
              "      <td>294</td>\n",
              "      <td>25601</td>\n",
              "      <td>285960</td>\n",
              "    </tr>\n",
              "    <tr>\n",
              "      <th>285961</th>\n",
              "      <td>True</td>\n",
              "      <td>08 22, 2015</td>\n",
              "      <td>B0078DQ85S</td>\n",
              "      <td>HighEnergy</td>\n",
              "      <td>1440201600</td>\n",
              "      <td>NaN</td>\n",
              "      <td>{'Flavor:': ' Cinnamon &amp; Currant'}</td>\n",
              "      <td>NaN</td>\n",
              "      <td>119653</td>\n",
              "      <td>18204</td>\n",
              "      <td>285961</td>\n",
              "    </tr>\n",
              "    <tr>\n",
              "      <th>285962</th>\n",
              "      <td>True</td>\n",
              "      <td>09 21, 2017</td>\n",
              "      <td>B000FZVLFS</td>\n",
              "      <td>Sam Jackson</td>\n",
              "      <td>1505952000</td>\n",
              "      <td>NaN</td>\n",
              "      <td>{'Flavor:': ' Espresso Forte'}</td>\n",
              "      <td>NaN</td>\n",
              "      <td>54673</td>\n",
              "      <td>2287</td>\n",
              "      <td>285962</td>\n",
              "    </tr>\n",
              "    <tr>\n",
              "      <th>285963</th>\n",
              "      <td>True</td>\n",
              "      <td>03 27, 2018</td>\n",
              "      <td>B001PB801Y</td>\n",
              "      <td>Louis J. Dezseran Sr.</td>\n",
              "      <td>1522108800</td>\n",
              "      <td>NaN</td>\n",
              "      <td>{'Size:': ' 5lb'}</td>\n",
              "      <td>NaN</td>\n",
              "      <td>16569</td>\n",
              "      <td>9343</td>\n",
              "      <td>285963</td>\n",
              "    </tr>\n",
              "    <tr>\n",
              "      <th>285964</th>\n",
              "      <td>True</td>\n",
              "      <td>10 18, 2015</td>\n",
              "      <td>B008X6KE0E</td>\n",
              "      <td>JRG</td>\n",
              "      <td>1445126400</td>\n",
              "      <td>NaN</td>\n",
              "      <td>NaN</td>\n",
              "      <td>NaN</td>\n",
              "      <td>56489</td>\n",
              "      <td>19483</td>\n",
              "      <td>285964</td>\n",
              "    </tr>\n",
              "  </tbody>\n",
              "</table>\n",
              "<p>285965 rows × 11 columns</p>\n",
              "</div>"
            ],
            "text/plain": [
              "        verified   reviewTime        asin  ...  userid  itemid      Id\n",
              "0           True   10 1, 2016  B001E5E3X0  ...   68877    7506       0\n",
              "1           True  06 29, 2014  B005BYXX5E  ...   50442   15530       1\n",
              "2           True  05 19, 2015  B0052OK6OO  ...   64349   15049       2\n",
              "3           True   10 5, 2014  B003SO8HGE  ...   26206   11957       3\n",
              "4           True  11 11, 2013  B003XUJ564  ...   59366   12173       4\n",
              "...          ...          ...         ...  ...     ...     ...     ...\n",
              "285960      True  01 17, 2016  B00FLD3X28  ...     294   25601  285960\n",
              "285961      True  08 22, 2015  B0078DQ85S  ...  119653   18204  285961\n",
              "285962      True  09 21, 2017  B000FZVLFS  ...   54673    2287  285962\n",
              "285963      True  03 27, 2018  B001PB801Y  ...   16569    9343  285963\n",
              "285964      True  10 18, 2015  B008X6KE0E  ...   56489   19483  285964\n",
              "\n",
              "[285965 rows x 11 columns]"
            ]
          },
          "metadata": {
            "tags": []
          },
          "execution_count": 8
        }
      ]
    },
    {
      "cell_type": "code",
      "metadata": {
        "id": "DiSloPUFfqI6",
        "outputId": "22083ef9-94d8-4c4a-93da-f533adc56b99",
        "colab": {
          "base_uri": "https://localhost:8080/",
          "height": 419
        }
      },
      "source": [
        "submission"
      ],
      "execution_count": 9,
      "outputs": [
        {
          "output_type": "execute_result",
          "data": {
            "text/html": [
              "<div>\n",
              "<style scoped>\n",
              "    .dataframe tbody tr th:only-of-type {\n",
              "        vertical-align: middle;\n",
              "    }\n",
              "\n",
              "    .dataframe tbody tr th {\n",
              "        vertical-align: top;\n",
              "    }\n",
              "\n",
              "    .dataframe thead th {\n",
              "        text-align: right;\n",
              "    }\n",
              "</style>\n",
              "<table border=\"1\" class=\"dataframe\">\n",
              "  <thead>\n",
              "    <tr style=\"text-align: right;\">\n",
              "      <th></th>\n",
              "      <th>Id</th>\n",
              "      <th>rating</th>\n",
              "    </tr>\n",
              "  </thead>\n",
              "  <tbody>\n",
              "    <tr>\n",
              "      <th>0</th>\n",
              "      <td>0</td>\n",
              "      <td>0.282813</td>\n",
              "    </tr>\n",
              "    <tr>\n",
              "      <th>1</th>\n",
              "      <td>1</td>\n",
              "      <td>0.629758</td>\n",
              "    </tr>\n",
              "    <tr>\n",
              "      <th>2</th>\n",
              "      <td>2</td>\n",
              "      <td>0.916899</td>\n",
              "    </tr>\n",
              "    <tr>\n",
              "      <th>3</th>\n",
              "      <td>3</td>\n",
              "      <td>0.702790</td>\n",
              "    </tr>\n",
              "    <tr>\n",
              "      <th>4</th>\n",
              "      <td>4</td>\n",
              "      <td>0.043446</td>\n",
              "    </tr>\n",
              "    <tr>\n",
              "      <th>...</th>\n",
              "      <td>...</td>\n",
              "      <td>...</td>\n",
              "    </tr>\n",
              "    <tr>\n",
              "      <th>285960</th>\n",
              "      <td>285960</td>\n",
              "      <td>0.049774</td>\n",
              "    </tr>\n",
              "    <tr>\n",
              "      <th>285961</th>\n",
              "      <td>285961</td>\n",
              "      <td>0.235110</td>\n",
              "    </tr>\n",
              "    <tr>\n",
              "      <th>285962</th>\n",
              "      <td>285962</td>\n",
              "      <td>0.525945</td>\n",
              "    </tr>\n",
              "    <tr>\n",
              "      <th>285963</th>\n",
              "      <td>285963</td>\n",
              "      <td>0.259647</td>\n",
              "    </tr>\n",
              "    <tr>\n",
              "      <th>285964</th>\n",
              "      <td>285964</td>\n",
              "      <td>0.682885</td>\n",
              "    </tr>\n",
              "  </tbody>\n",
              "</table>\n",
              "<p>285965 rows × 2 columns</p>\n",
              "</div>"
            ],
            "text/plain": [
              "            Id    rating\n",
              "0            0  0.282813\n",
              "1            1  0.629758\n",
              "2            2  0.916899\n",
              "3            3  0.702790\n",
              "4            4  0.043446\n",
              "...        ...       ...\n",
              "285960  285960  0.049774\n",
              "285961  285961  0.235110\n",
              "285962  285962  0.525945\n",
              "285963  285963  0.259647\n",
              "285964  285964  0.682885\n",
              "\n",
              "[285965 rows x 2 columns]"
            ]
          },
          "metadata": {
            "tags": []
          },
          "execution_count": 9
        }
      ]
    },
    {
      "cell_type": "markdown",
      "metadata": {
        "id": "Ka42jsXJaein"
      },
      "source": [
        "### Необходимые функции"
      ]
    },
    {
      "cell_type": "code",
      "metadata": {
        "id": "eZXJrLcjakQp"
      },
      "source": [
        "# Построение графиков counts\n",
        "def get_gr_counts(col):\n",
        "    print(train[col].value_counts())\n",
        "    print()\n",
        "    fig, axes = plt.subplots(1, 2, figsize=(12, 5))\n",
        "    fig.patch.set_facecolor('xkcd:white')\n",
        "    sns.set(style=\"darkgrid\")\n",
        "    sns.countplot(x=col, data=train, ax=axes[0])\n",
        "    axes[0].set_title('Общее кол-во')\n",
        "    sns.countplot(x='rating', hue=col, data=train, ax=axes[1])\n",
        "    axes[1].set_title('Разбиение по рейтингу')\n",
        "    plt.show()\n",
        "\n",
        "\n",
        "# Графики для числовых параметров\n",
        "def get_gr_num(col, bns=10):\n",
        "    fig, axes = plt.subplots(1, 3, figsize=(18, 5))\n",
        "    fig.patch.set_facecolor('xkcd:white')\n",
        "    sns.set(style=\"darkgrid\")\n",
        "\n",
        "    sns.distplot(train[col], bins=bns, ax=axes[0])\n",
        "    axes[0].set_title('Распределение {}'.format(col))\n",
        "    sns.kdeplot(train.loc[train.rating == 0, col],\n",
        "                label='rating 0', shade=True, ax=axes[1])\n",
        "    sns.kdeplot(train.loc[train.rating == 1, col],\n",
        "                label='rating 1', shade=True, ax=axes[1])\n",
        "    axes[1].set_title('{} с делением по rating'.format(col))\n",
        "    sns.boxplot(x='rating', y=col, data=train, ax=axes[2])\n",
        "    axes[2].set_title('Boxplot {}'.format(col))\n",
        "\n",
        "\n",
        "# Функции для создания списка id для items и users и генерации матриц признаков\n",
        "def generate_int_id(dataframe, id_col_name):\n",
        "    new_dataframe = dataframe.assign(\n",
        "        int_id_col_name=np.arange(len(dataframe))\n",
        "    ).reset_index(drop=True)\n",
        "    return new_dataframe.rename(columns={'int_id_col_name': id_col_name})\n",
        "\n",
        "\n",
        "def create_features(dataframe, features_name, id_col_name):\n",
        "    features = dataframe[features_name].apply(\n",
        "        lambda x: ','.join(x.map(str)), axis=1)\n",
        "    features = features.str.split(',')\n",
        "    features = list(zip(dataframe[id_col_name], features))\n",
        "    return features\n",
        "\n",
        "\n",
        "def generate_feature_list(dataframe, features_name):\n",
        "    features = dataframe[features_name].apply(\n",
        "        lambda x: ','.join(x.map(str)), axis=1)\n",
        "    features = features.str.split(',')\n",
        "    features = features.apply(pd.Series).stack().reset_index(drop=True)\n",
        "    return features"
      ],
      "execution_count": 10,
      "outputs": []
    },
    {
      "cell_type": "markdown",
      "metadata": {
        "id": "YSBmr0MshWzS"
      },
      "source": [
        "### Подготовим данные\n",
        "Разобьем train на тренировочный и тестовый датасеты"
      ]
    },
    {
      "cell_type": "code",
      "metadata": {
        "id": "k47jP_MqfuEi"
      },
      "source": [
        "train_data, test_data = train_test_split(train, random_state=32, shuffle=True)"
      ],
      "execution_count": 11,
      "outputs": []
    },
    {
      "cell_type": "markdown",
      "metadata": {
        "id": "S9srUWHbzXbU"
      },
      "source": [
        "Подготовим coo матрицу"
      ]
    },
    {
      "cell_type": "code",
      "metadata": {
        "id": "IeLbqrcFhdxB"
      },
      "source": [
        "ratings_coo = sparse.coo_matrix((train_data['rating'].astype(int),\n",
        "                                 (train_data['userid'],\n",
        "                                  train_data['itemid'])))"
      ],
      "execution_count": 12,
      "outputs": []
    },
    {
      "cell_type": "markdown",
      "metadata": {
        "id": "v4eEgs-uzbCB"
      },
      "source": [
        "Объявляем вспомогательные константы для обучения модели"
      ]
    },
    {
      "cell_type": "code",
      "metadata": {
        "id": "TnvhyForhhB6"
      },
      "source": [
        "# число потоков процессора\n",
        "NUM_THREADS = 8\n",
        "\n",
        "# число параметров вектора\n",
        "NUM_COMPONENTS = 30\n",
        "\n",
        "# число эпох обучения\n",
        "NUM_EPOCHS = 20"
      ],
      "execution_count": 13,
      "outputs": []
    },
    {
      "cell_type": "markdown",
      "metadata": {
        "id": "nY-3hTxRihcr"
      },
      "source": [
        "### Модель"
      ]
    },
    {
      "cell_type": "code",
      "metadata": {
        "id": "6UQkV2wsiciD"
      },
      "source": [
        "model = LightFM(learning_rate=0.1, loss='logistic',\n",
        "                no_components=NUM_COMPONENTS, random_state=32)"
      ],
      "execution_count": 14,
      "outputs": []
    },
    {
      "cell_type": "markdown",
      "metadata": {
        "id": "Y_t6vxGpzsLp"
      },
      "source": [
        "Обучим модель"
      ]
    },
    {
      "cell_type": "code",
      "metadata": {
        "id": "aUh7tzLFio7a"
      },
      "source": [
        "model = model.fit(ratings_coo, epochs=NUM_EPOCHS,\n",
        "                  num_threads=NUM_THREADS)"
      ],
      "execution_count": 15,
      "outputs": []
    },
    {
      "cell_type": "markdown",
      "metadata": {
        "id": "TC9qKGEtzvO5"
      },
      "source": [
        "Получим предсказания рейтингов для тестовой части трейна"
      ]
    },
    {
      "cell_type": "code",
      "metadata": {
        "id": "8HrblPrAi5M-"
      },
      "source": [
        "preds = model.predict(test_data.userid.values,\n",
        "                      test_data.itemid.values)"
      ],
      "execution_count": 16,
      "outputs": []
    },
    {
      "cell_type": "markdown",
      "metadata": {
        "id": "JigR-p0Jzyla"
      },
      "source": [
        "Оценим качество модели"
      ]
    },
    {
      "cell_type": "code",
      "metadata": {
        "id": "qFCbsV7ejAsg",
        "outputId": "5f08c443-c1cb-4a17-e3ed-a0a69f957018",
        "colab": {
          "base_uri": "https://localhost:8080/"
        }
      },
      "source": [
        "sklearn.metrics.roc_auc_score(test_data.rating, preds)"
      ],
      "execution_count": 17,
      "outputs": [
        {
          "output_type": "execute_result",
          "data": {
            "text/plain": [
              "0.7452707616874635"
            ]
          },
          "metadata": {
            "tags": []
          },
          "execution_count": 17
        }
      ]
    },
    {
      "cell_type": "markdown",
      "metadata": {
        "id": "swREw2J0qKE5"
      },
      "source": [
        "**Предварительный вывод**\n",
        "- Построили базовую модель, аналогично демонстрационному ноутбуку, чтобы разобраться в предлагаемой теории.\n",
        "- Построили предсказания модели без предобработки данных и без дополнительных фичей.\n",
        "- Базовый скор: 0.745\n",
        "- Улучшим модель для более точных предсказаний и, в конечном итоге, более релевантных рекомендаций товаров."
      ]
    },
    {
      "cell_type": "markdown",
      "metadata": {
        "id": "F3fA6QrItmDC"
      },
      "source": [
        "## Улучшим базовую модель\n",
        "- Пока без добавления новых признаков\n",
        "- Посмотрим на данные, которые используются в базовой модели. "
      ]
    },
    {
      "cell_type": "markdown",
      "metadata": {
        "id": "6G7F3HpTuKLj"
      },
      "source": [
        "**Пропуски**"
      ]
    },
    {
      "cell_type": "code",
      "metadata": {
        "id": "d06E-12suPCm",
        "outputId": "a36c4d36-8bcb-4457-c692-f69aaa5ed9da",
        "colab": {
          "base_uri": "https://localhost:8080/"
        }
      },
      "source": [
        "train[['userid', 'itemid', 'rating']].isnull().sum()"
      ],
      "execution_count": 18,
      "outputs": [
        {
          "output_type": "execute_result",
          "data": {
            "text/plain": [
              "userid    0\n",
              "itemid    0\n",
              "rating    0\n",
              "dtype: int64"
            ]
          },
          "metadata": {
            "tags": []
          },
          "execution_count": 18
        }
      ]
    },
    {
      "cell_type": "markdown",
      "metadata": {
        "id": "6asPM-y7whag"
      },
      "source": [
        "- Пропусков нет."
      ]
    },
    {
      "cell_type": "markdown",
      "metadata": {
        "id": "58cCL3GFcbpU"
      },
      "source": [
        "**Пользователи**"
      ]
    },
    {
      "cell_type": "code",
      "metadata": {
        "id": "k3V069BXchDJ",
        "outputId": "2f528345-f270-44b6-fac9-55e77b30970e",
        "colab": {
          "base_uri": "https://localhost:8080/",
          "height": 404
        }
      },
      "source": [
        "get_gr_num('userid', 100)"
      ],
      "execution_count": 19,
      "outputs": [
        {
          "output_type": "stream",
          "text": [
            "/usr/local/lib/python3.6/dist-packages/seaborn/distributions.py:2551: FutureWarning: `distplot` is a deprecated function and will be removed in a future version. Please adapt your code to use either `displot` (a figure-level function with similar flexibility) or `histplot` (an axes-level function for histograms).\n",
            "  warnings.warn(msg, FutureWarning)\n"
          ],
          "name": "stderr"
        },
        {
          "output_type": "display_data",
          "data": {
            "image/png": "[encoded data removed]",
            "text/plain": [
              "<Figure size 1296x360 with 3 Axes>"
            ]
          },
          "metadata": {
            "tags": []
          }
        }
      ]
    },
    {
      "cell_type": "markdown",
      "metadata": {
        "id": "XHopBt2OekQz"
      },
      "source": [
        "- Первые пользователи были более лояльны в оценках.\n",
        "\n"
      ]
    },
    {
      "cell_type": "markdown",
      "metadata": {
        "id": "VR9QTqGgd-gZ"
      },
      "source": [
        "**Товары**"
      ]
    },
    {
      "cell_type": "code",
      "metadata": {
        "id": "RSKR9cSad9XV",
        "outputId": "ebd85890-e6e0-4047-dd5f-dad2da8687a9",
        "colab": {
          "base_uri": "https://localhost:8080/",
          "height": 409
        }
      },
      "source": [
        "get_gr_num('itemid', 100)"
      ],
      "execution_count": 20,
      "outputs": [
        {
          "output_type": "stream",
          "text": [
            "/usr/local/lib/python3.6/dist-packages/seaborn/distributions.py:2551: FutureWarning: `distplot` is a deprecated function and will be removed in a future version. Please adapt your code to use either `displot` (a figure-level function with similar flexibility) or `histplot` (an axes-level function for histograms).\n",
            "  warnings.warn(msg, FutureWarning)\n"
          ],
          "name": "stderr"
        },
        {
          "output_type": "display_data",
          "data": {
            "image/png": "[encoded data removed]",
            "text/plain": [
              "<Figure size 1296x360 with 3 Axes>"
            ]
          },
          "metadata": {
            "tags": []
          }
        }
      ]
    },
    {
      "cell_type": "markdown",
      "metadata": {
        "id": "rOOCgp61ezgH"
      },
      "source": [
        "- Первые товары оцениваются в среднем лучше."
      ]
    },
    {
      "cell_type": "markdown",
      "metadata": {
        "id": "o17wKI7rvdf4"
      },
      "source": [
        "**Дубликаты**"
      ]
    },
    {
      "cell_type": "code",
      "metadata": {
        "id": "on--7al7vjxQ",
        "outputId": "6267c8fa-a9fb-40a4-889f-4748c3a82aea",
        "colab": {
          "base_uri": "https://localhost:8080/"
        }
      },
      "source": [
        "train[['userid', 'itemid', 'rating']].duplicated().sum()"
      ],
      "execution_count": 21,
      "outputs": [
        {
          "output_type": "execute_result",
          "data": {
            "text/plain": [
              "43746"
            ]
          },
          "metadata": {
            "tags": []
          },
          "execution_count": 21
        }
      ]
    },
    {
      "cell_type": "markdown",
      "metadata": {
        "id": "SEDusGP3fJUH"
      },
      "source": [
        "- Довольно много дублей, посмотрим, что можно сделать с этой особенностью датасета."
      ]
    },
    {
      "cell_type": "markdown",
      "metadata": {
        "id": "nQJn1sm9v3tu"
      },
      "source": [
        "**Целевая переменная**"
      ]
    },
    {
      "cell_type": "code",
      "metadata": {
        "id": "bBe0Yo_6v6i8",
        "outputId": "4863a236-a3b2-44f0-9056-ee9d0be64dcb",
        "colab": {
          "base_uri": "https://localhost:8080/"
        }
      },
      "source": [
        "train.rating.value_counts()"
      ],
      "execution_count": 22,
      "outputs": [
        {
          "output_type": "execute_result",
          "data": {
            "text/plain": [
              "1.0    728290\n",
              "0.0    129605\n",
              "Name: rating, dtype: int64"
            ]
          },
          "metadata": {
            "tags": []
          },
          "execution_count": 22
        }
      ]
    },
    {
      "cell_type": "code",
      "metadata": {
        "id": "wGNCkor1wAHv",
        "outputId": "b3a23b5c-9dcf-41ec-c0e0-a52a72abbba8",
        "colab": {
          "base_uri": "https://localhost:8080/",
          "height": 285
        }
      },
      "source": [
        "train['rating'].value_counts(ascending=True).plot(kind='barh')"
      ],
      "execution_count": 23,
      "outputs": [
        {
          "output_type": "execute_result",
          "data": {
            "text/plain": [
              "<matplotlib.axes._subplots.AxesSubplot at 0x7fb5808de0b8>"
            ]
          },
          "metadata": {
            "tags": []
          },
          "execution_count": 23
        },
        {
          "output_type": "display_data",
          "data": {
            "image/png": "[encoded data removed]",
            "text/plain": [
              "<Figure size 432x288 with 1 Axes>"
            ]
          },
          "metadata": {
            "tags": []
          }
        }
      ]
    },
    {
      "cell_type": "markdown",
      "metadata": {
        "id": "_J-5FoBDwRDC"
      },
      "source": [
        "- Два значения 1 и 0.\n",
        "- Преобладают значения 1."
      ]
    },
    {
      "cell_type": "markdown",
      "metadata": {
        "id": "FhI8EDsdvt8t"
      },
      "source": [
        "### Удалим дубли и обучим базовую модель на очищенном дата сете\n",
        "Для этого создадим временный дата фрем"
      ]
    },
    {
      "cell_type": "code",
      "metadata": {
        "id": "oMCoJiVdwEN7"
      },
      "source": [
        "df_tmp = train[['userid', 'itemid', 'rating']]"
      ],
      "execution_count": 24,
      "outputs": []
    },
    {
      "cell_type": "markdown",
      "metadata": {
        "id": "M4en5rz_wWO4"
      },
      "source": [
        "Удалим дубли"
      ]
    },
    {
      "cell_type": "code",
      "metadata": {
        "id": "FuYWfoZuvqKP"
      },
      "source": [
        "df_tmp = df_tmp.drop_duplicates().reset_index(drop=True)"
      ],
      "execution_count": 25,
      "outputs": []
    },
    {
      "cell_type": "markdown",
      "metadata": {
        "id": "DgzJqbD3wb2C"
      },
      "source": [
        "Заново разобьем данные на трейн и тест"
      ]
    },
    {
      "cell_type": "code",
      "metadata": {
        "id": "GNTn7QG0wi3C"
      },
      "source": [
        "train_data, test_data = train_test_split(df_tmp, random_state=32, shuffle=True)"
      ],
      "execution_count": 26,
      "outputs": []
    },
    {
      "cell_type": "markdown",
      "metadata": {
        "id": "e4P-ydZxD4Ab"
      },
      "source": [
        "Подготовим соо матрицу"
      ]
    },
    {
      "cell_type": "code",
      "metadata": {
        "id": "h39XqDd6D66e"
      },
      "source": [
        "ratings_coo = sparse.coo_matrix((train_data['rating'].astype(int),\n",
        "                                 (train_data['userid'],\n",
        "                                  train_data['itemid'])))"
      ],
      "execution_count": 27,
      "outputs": []
    },
    {
      "cell_type": "markdown",
      "metadata": {
        "id": "XfTRjQbBEDRJ"
      },
      "source": [
        "Обучим модель"
      ]
    },
    {
      "cell_type": "code",
      "metadata": {
        "id": "IxXwa98QEBlK"
      },
      "source": [
        "model = model.fit(ratings_coo, epochs=NUM_EPOCHS,\n",
        "                  num_threads=NUM_THREADS)"
      ],
      "execution_count": 28,
      "outputs": []
    },
    {
      "cell_type": "markdown",
      "metadata": {
        "id": "7o37-uLkEMKS"
      },
      "source": [
        "Получим предсказания"
      ]
    },
    {
      "cell_type": "code",
      "metadata": {
        "id": "MldteUzwEO5K"
      },
      "source": [
        "preds = model.predict(test_data.userid.values,\n",
        "                      test_data.itemid.values)"
      ],
      "execution_count": 29,
      "outputs": []
    },
    {
      "cell_type": "markdown",
      "metadata": {
        "id": "OUo6nG0nEQlW"
      },
      "source": [
        "Оценим качество"
      ]
    },
    {
      "cell_type": "code",
      "metadata": {
        "id": "0ErHl9g7ESu1",
        "outputId": "da09aedf-349c-4990-b654-019a3ad772bb",
        "colab": {
          "base_uri": "https://localhost:8080/"
        }
      },
      "source": [
        "sklearn.metrics.roc_auc_score(test_data.rating, preds)"
      ],
      "execution_count": 30,
      "outputs": [
        {
          "output_type": "execute_result",
          "data": {
            "text/plain": [
              "0.7156372656452259"
            ]
          },
          "metadata": {
            "tags": []
          },
          "execution_count": 30
        }
      ]
    },
    {
      "cell_type": "markdown",
      "metadata": {
        "id": "P7qCwEJUEXWi"
      },
      "source": [
        "**Предварительный вывод:** скор ухудшился при удалении дублей за счет сокращения количества наблюдений.\n",
        "\n",
        "**Дополнительный комментарий:** *Кроме удаления дублей, попробовал увеличить количество дублей (раз удаление дублей ухудшает скор, было предположение, что если сбалансировать целевую переменную за счет добавления дублирующих строк, скор улучшится). Однако в данном случае модель переобучается. Скор на трейне улучшается, а на тесте ухудшается. Вывод: оставил исходный датасет для дальнейшей работы.*"
      ]
    },
    {
      "cell_type": "markdown",
      "metadata": {
        "id": "A9llIqqe3c3c"
      },
      "source": [
        "## Гиперпараметры Lightfm\n",
        "- Настроим гиперпараметры модели.\n",
        "- Посмотрим на графиках как меняется скор в зависимости от различных гиперпараметров. Для этого собранные данные запишем в дата фрейм.\n",
        "- Воспользоваться **RandomizedSearchCV** не получилось, поэтому перебор параметров сделал вложенными циклами с периодическим сохранением собранных параметров в файл .csv\n",
        "- Поменял формат подготовки данных: теперь мы сначала создаем соо-матрицу, а затем разбиваем её на train и test с помощью **random_train_test_split**."
      ]
    },
    {
      "cell_type": "code",
      "metadata": {
        "id": "2mjftYqfimMd"
      },
      "source": [
        "# COO Матрицы\n",
        "# Основная\n",
        "ratings_coo = sparse.coo_matrix((train.rating, (train.userid, train.itemid)))\n",
        "\n",
        "# Разбиваем наш датасет на обучающую и тестовую выборки\n",
        "train_m, test_m = random_train_test_split(ratings_coo, test_percentage=0.2)"
      ],
      "execution_count": 31,
      "outputs": []
    },
    {
      "cell_type": "markdown",
      "metadata": {
        "id": "62YwGkEA5sqj"
      },
      "source": [
        "### Подберем гиперпараметры"
      ]
    },
    {
      "cell_type": "code",
      "metadata": {
        "id": "HKmo-HEPimRx"
      },
      "source": [
        "best_score = 0\n",
        "best_param = {}\n",
        "df_param = pd.DataFrame(columns=[\n",
        "                        'LERNING_SCHEDULE', 'NUM_COMPONENTS', 'NUM_EPOCHS', 'LERNING_RATE', 'score'])"
      ],
      "execution_count": 32,
      "outputs": []
    },
    {
      "cell_type": "code",
      "metadata": {
        "id": "UWOS9DuGimPG"
      },
      "source": [
        "# число потоков процессора\n",
        "NUM_THREADS = 12\n",
        "\n",
        "\n",
        "LERNING_SCHEDULE = ['adagrad', 'adadelta']\n",
        "\n",
        "# число параметров вектора\n",
        "NUM_COMPONENTS = [30, 60, 100, 120, 160, 200, 260, 300]\n",
        "\n",
        "# число эпох обучения\n",
        "NUM_EPOCHS = [20, 25, 30, 50, 70]\n",
        "\n",
        "# Шаг обучения\n",
        "LERNING_RATE = [0.03, 0.05, 0.07, 0.09]"
      ],
      "execution_count": 33,
      "outputs": []
    },
    {
      "cell_type": "markdown",
      "metadata": {
        "id": "o4WIMYke6Ni9"
      },
      "source": [
        "Код для перебора гиперпараметров, промежуточного тестирования модели и записи результатов в дата фрейм."
      ]
    },
    {
      "cell_type": "code",
      "metadata": {
        "id": "YX3JhssK5-oX"
      },
      "source": [
        "for lern_sch in LERNING_SCHEDULE:\n",
        "    for num_comp in NUM_COMPONENTS:\n",
        "        for num_ep in NUM_EPOCHS:\n",
        "            for lern_rate in LERNING_RATE:\n",
        "                # Создаем модель\n",
        "                model = LightFM(learning_rate=lern_rate, loss='logistic', learning_schedule=lern_sch,\n",
        "                                no_components=num_comp, random_state=32)\n",
        "\n",
        "                # Обучаем модель\n",
        "                model = model.fit(train_m, epochs=num_ep,\n",
        "                                  num_threads=NUM_THREADS)\n",
        "\n",
        "                preds = model.predict(test_m.row, test_m.col)\n",
        "                score_tmp = sklearn.metrics.roc_auc_score(test_m.data, preds)\n",
        "                param_tmp = {\n",
        "                    'LERNING_SCHEDULE': lern_sch,\n",
        "                    'NUM_COMPONENTS': num_comp,\n",
        "                    'NUM_EPOCHS': num_ep,\n",
        "                    'LERNING_RATE': lern_rate,\n",
        "                    'score': score_tmp\n",
        "                }\n",
        "                if score_tmp > best_score:\n",
        "                    best_score = score_tmp\n",
        "                    best_param = param_tmp\n",
        "\n",
        "                df_param = df_param.append(param_tmp, ignore_index=True)\n",
        "                print('---------------')\n",
        "                print(df_param.tail())\n",
        "                print('---------------')\n",
        "                print('Score: ', score_tmp)\n",
        "                print('BEST Score: ', best_score)\n",
        "                print()\n",
        "\n",
        "            df_param.to_csv('lightfm_param.csv', index=False)"
      ],
      "execution_count": null,
      "outputs": []
    },
    {
      "cell_type": "markdown",
      "metadata": {
        "id": "achheHQR6l_v"
      },
      "source": [
        "- Код запускался параллельно работе над проектом на платформе **Google Colab**, поэтому в отчетном ноутбуке запускать его не будем, а просто загрузим собранные данные."
      ]
    },
    {
      "cell_type": "code",
      "metadata": {
        "id": "4jQ4Lhz85-9X",
        "outputId": "74068a18-9ba4-4f3e-be29-949007f00f37",
        "colab": {
          "base_uri": "https://localhost:8080/",
          "height": 419
        }
      },
      "source": [
        "df_param = pd.read_csv('lightfm_param.csv')\n",
        "df_param"
      ],
      "execution_count": 34,
      "outputs": [
        {
          "output_type": "execute_result",
          "data": {
            "text/html": [
              "<div>\n",
              "<style scoped>\n",
              "    .dataframe tbody tr th:only-of-type {\n",
              "        vertical-align: middle;\n",
              "    }\n",
              "\n",
              "    .dataframe tbody tr th {\n",
              "        vertical-align: top;\n",
              "    }\n",
              "\n",
              "    .dataframe thead th {\n",
              "        text-align: right;\n",
              "    }\n",
              "</style>\n",
              "<table border=\"1\" class=\"dataframe\">\n",
              "  <thead>\n",
              "    <tr style=\"text-align: right;\">\n",
              "      <th></th>\n",
              "      <th>Unnamed: 0</th>\n",
              "      <th>LERNING_SCHEDULE</th>\n",
              "      <th>NUM_COMPONENTS</th>\n",
              "      <th>NUM_EPOCHS</th>\n",
              "      <th>LERNING_RATE</th>\n",
              "      <th>score</th>\n",
              "    </tr>\n",
              "  </thead>\n",
              "  <tbody>\n",
              "    <tr>\n",
              "      <th>0</th>\n",
              "      <td>0</td>\n",
              "      <td>adagrad</td>\n",
              "      <td>30</td>\n",
              "      <td>20</td>\n",
              "      <td>0.03</td>\n",
              "      <td>0.714426</td>\n",
              "    </tr>\n",
              "    <tr>\n",
              "      <th>1</th>\n",
              "      <td>1</td>\n",
              "      <td>adagrad</td>\n",
              "      <td>30</td>\n",
              "      <td>20</td>\n",
              "      <td>0.05</td>\n",
              "      <td>0.743822</td>\n",
              "    </tr>\n",
              "    <tr>\n",
              "      <th>2</th>\n",
              "      <td>2</td>\n",
              "      <td>adagrad</td>\n",
              "      <td>30</td>\n",
              "      <td>20</td>\n",
              "      <td>0.07</td>\n",
              "      <td>0.752324</td>\n",
              "    </tr>\n",
              "    <tr>\n",
              "      <th>3</th>\n",
              "      <td>3</td>\n",
              "      <td>adagrad</td>\n",
              "      <td>30</td>\n",
              "      <td>20</td>\n",
              "      <td>0.09</td>\n",
              "      <td>0.751943</td>\n",
              "    </tr>\n",
              "    <tr>\n",
              "      <th>4</th>\n",
              "      <td>4</td>\n",
              "      <td>adagrad</td>\n",
              "      <td>30</td>\n",
              "      <td>25</td>\n",
              "      <td>0.03</td>\n",
              "      <td>0.726050</td>\n",
              "    </tr>\n",
              "    <tr>\n",
              "      <th>...</th>\n",
              "      <td>...</td>\n",
              "      <td>...</td>\n",
              "      <td>...</td>\n",
              "      <td>...</td>\n",
              "      <td>...</td>\n",
              "      <td>...</td>\n",
              "    </tr>\n",
              "    <tr>\n",
              "      <th>155</th>\n",
              "      <td>155</td>\n",
              "      <td>adagrad</td>\n",
              "      <td>300</td>\n",
              "      <td>50</td>\n",
              "      <td>0.09</td>\n",
              "      <td>0.748784</td>\n",
              "    </tr>\n",
              "    <tr>\n",
              "      <th>156</th>\n",
              "      <td>156</td>\n",
              "      <td>adagrad</td>\n",
              "      <td>300</td>\n",
              "      <td>70</td>\n",
              "      <td>0.03</td>\n",
              "      <td>0.750396</td>\n",
              "    </tr>\n",
              "    <tr>\n",
              "      <th>157</th>\n",
              "      <td>157</td>\n",
              "      <td>adagrad</td>\n",
              "      <td>300</td>\n",
              "      <td>70</td>\n",
              "      <td>0.05</td>\n",
              "      <td>0.746846</td>\n",
              "    </tr>\n",
              "    <tr>\n",
              "      <th>158</th>\n",
              "      <td>158</td>\n",
              "      <td>adagrad</td>\n",
              "      <td>300</td>\n",
              "      <td>70</td>\n",
              "      <td>0.07</td>\n",
              "      <td>0.745639</td>\n",
              "    </tr>\n",
              "    <tr>\n",
              "      <th>159</th>\n",
              "      <td>159</td>\n",
              "      <td>adagrad</td>\n",
              "      <td>300</td>\n",
              "      <td>70</td>\n",
              "      <td>0.09</td>\n",
              "      <td>0.745481</td>\n",
              "    </tr>\n",
              "  </tbody>\n",
              "</table>\n",
              "<p>160 rows × 6 columns</p>\n",
              "</div>"
            ],
            "text/plain": [
              "     Unnamed: 0 LERNING_SCHEDULE  ...  LERNING_RATE     score\n",
              "0             0          adagrad  ...          0.03  0.714426\n",
              "1             1          adagrad  ...          0.05  0.743822\n",
              "2             2          adagrad  ...          0.07  0.752324\n",
              "3             3          adagrad  ...          0.09  0.751943\n",
              "4             4          adagrad  ...          0.03  0.726050\n",
              "..          ...              ...  ...           ...       ...\n",
              "155         155          adagrad  ...          0.09  0.748784\n",
              "156         156          adagrad  ...          0.03  0.750396\n",
              "157         157          adagrad  ...          0.05  0.746846\n",
              "158         158          adagrad  ...          0.07  0.745639\n",
              "159         159          adagrad  ...          0.09  0.745481\n",
              "\n",
              "[160 rows x 6 columns]"
            ]
          },
          "metadata": {
            "tags": []
          },
          "execution_count": 34
        }
      ]
    },
    {
      "cell_type": "markdown",
      "metadata": {
        "id": "d_h0BtwO7z1I"
      },
      "source": [
        "- Собрано 160 вариантов настроек модели.\n",
        "- Построим графики зависимости Score от Lerning rate для различного количества эпох обучения и для различных длин векторов. "
      ]
    },
    {
      "cell_type": "code",
      "metadata": {
        "id": "w_rLS9Q45_Jo",
        "outputId": "a5b6a78b-17df-4a68-eaad-c9a8075579ab",
        "colab": {
          "base_uri": "https://localhost:8080/",
          "height": 725
        }
      },
      "source": [
        "# Количество столбцов и строк для систем координат\n",
        "col = 4\n",
        "row = 2\n",
        "\n",
        "# Список координат для графиков\n",
        "x = [i for i in range(0, col)]*row\n",
        "y = [i for i in range(0, row) for c in range(0, col)]\n",
        "\n",
        "# Начальные данные для графиков\n",
        "fig = plt.figure(figsize=(20, 10))\n",
        "gs = fig.add_gridspec(row, col)\n",
        "componetns_list = df_param['NUM_COMPONENTS'].unique()\n",
        "epoc_list = df_param['NUM_EPOCHS'].unique()\n",
        "\n",
        "for i, num_comp in enumerate(componetns_list):\n",
        "    df_param_tmp_comp = df_param[df_param['NUM_COMPONENTS'] == num_comp]\n",
        "    with sns.axes_style(\"darkgrid\"):\n",
        "        ax = fig.add_subplot(gs[y[i], x[i]])\n",
        "        ax.set_title('Num components {}'.format(num_comp), fontsize=14)\n",
        "        plt.xlabel('Lerning rate', fontsize=13)\n",
        "        plt.ylabel('Score', fontsize=13)\n",
        "        for num_epoc in epoc_list:\n",
        "            plt.plot(df_param_tmp_comp[df_param_tmp_comp.NUM_EPOCHS == num_epoc]['LERNING_RATE'],\n",
        "                     df_param_tmp_comp[df_param_tmp_comp.NUM_EPOCHS == num_epoc]['score'], label='Num epochs {}'.format(num_epoc))\n",
        "        plt.legend(loc=4)\n",
        "\n",
        "fig.tight_layout()"
      ],
      "execution_count": 35,
      "outputs": [
        {
          "output_type": "display_data",
          "data": {
            "image/png": "[encoded data removed]",
            "text/plain": [
              "<Figure size 1440x720 with 8 Axes>"
            ]
          },
          "metadata": {
            "tags": []
          }
        }
      ]
    },
    {
      "cell_type": "markdown",
      "metadata": {
        "id": "MUF7K5rZ8wJ1"
      },
      "source": [
        "**Предварительные выводы:**\n",
        "- Score зависит от Lerning rate: при малых значения Score функция интенсивно возрастает до определенного максимума, затем плавно снижается.\n",
        "- Максимум функции смещается в сторону уменьшения показателей Score (влево) при увеличении количества эпох обучения.\n",
        "- С ростом числа эпох обучения функция сглаживается по горизонтали и не достигает максимальных значений, которые достигаются при более низких значениях количества эпох обучения.\n",
        "- С увеличением количества компонентов вектора, функция позже затухает, поэтому в рассматриваемом диапазоне Lerning rate не очевидно, что мы видим максимум функции на малых значениях количества эпох обучения."
      ]
    },
    {
      "cell_type": "markdown",
      "metadata": {
        "id": "YoU5MwCmAE86"
      },
      "source": [
        "Посмотрим на гиперпараметры для максимального значения score."
      ]
    },
    {
      "cell_type": "code",
      "metadata": {
        "id": "DXQcVD1c5_Of",
        "outputId": "80c8aa30-2561-477a-d31e-e37196c9aed1",
        "colab": {
          "base_uri": "https://localhost:8080/",
          "height": 80
        }
      },
      "source": [
        "df_param[df_param.score == df_param.score.max()]"
      ],
      "execution_count": 36,
      "outputs": [
        {
          "output_type": "execute_result",
          "data": {
            "text/html": [
              "<div>\n",
              "<style scoped>\n",
              "    .dataframe tbody tr th:only-of-type {\n",
              "        vertical-align: middle;\n",
              "    }\n",
              "\n",
              "    .dataframe tbody tr th {\n",
              "        vertical-align: top;\n",
              "    }\n",
              "\n",
              "    .dataframe thead th {\n",
              "        text-align: right;\n",
              "    }\n",
              "</style>\n",
              "<table border=\"1\" class=\"dataframe\">\n",
              "  <thead>\n",
              "    <tr style=\"text-align: right;\">\n",
              "      <th></th>\n",
              "      <th>Unnamed: 0</th>\n",
              "      <th>LERNING_SCHEDULE</th>\n",
              "      <th>NUM_COMPONENTS</th>\n",
              "      <th>NUM_EPOCHS</th>\n",
              "      <th>LERNING_RATE</th>\n",
              "      <th>score</th>\n",
              "    </tr>\n",
              "  </thead>\n",
              "  <tbody>\n",
              "    <tr>\n",
              "      <th>83</th>\n",
              "      <td>83</td>\n",
              "      <td>adagrad</td>\n",
              "      <td>160</td>\n",
              "      <td>20</td>\n",
              "      <td>0.09</td>\n",
              "      <td>0.760773</td>\n",
              "    </tr>\n",
              "  </tbody>\n",
              "</table>\n",
              "</div>"
            ],
            "text/plain": [
              "    Unnamed: 0 LERNING_SCHEDULE  ...  LERNING_RATE     score\n",
              "83          83          adagrad  ...          0.09  0.760773\n",
              "\n",
              "[1 rows x 6 columns]"
            ]
          },
          "metadata": {
            "tags": []
          },
          "execution_count": 36
        }
      ]
    },
    {
      "cell_type": "markdown",
      "metadata": {
        "id": "vNzU4TquAZXZ"
      },
      "source": [
        "- С помощью подбора гиперпараметров удалось улучшить базовый score.\n",
        "- Предсказания модели с данными гиперпараметрами показали score 0.77139 на платформе Kaggle (7 место на лидерборде в момент публикации результата)."
      ]
    },
    {
      "cell_type": "markdown",
      "metadata": {
        "id": "yugFpmX2CTDJ"
      },
      "source": [
        "Протестируем параметры модели с бОльшими значениями Lerning rate и с несколькими более низкими показателями количества эпох обучения.\n",
        "- Загрузим собранные данные аналогичным образом и посмотрим на графики."
      ]
    },
    {
      "cell_type": "code",
      "metadata": {
        "id": "qSzMDoJv5_Q4"
      },
      "source": [
        "df_param2 = pd.read_csv('lightfm_param2.csv')"
      ],
      "execution_count": 37,
      "outputs": []
    },
    {
      "cell_type": "code",
      "metadata": {
        "id": "qLvNDg2p5_MM",
        "outputId": "014aec83-2259-43e6-f166-8643d716f362",
        "colab": {
          "base_uri": "https://localhost:8080/",
          "height": 365
        }
      },
      "source": [
        "# Количество столбцов и строк для систем координат\n",
        "col = 4\n",
        "row = 1\n",
        "\n",
        "# Список координат для графиков\n",
        "x = [i for i in range(0, col)]*row\n",
        "y = [i for i in range(0, row) for c in range(0, col)]\n",
        "\n",
        "# Начальные данные для графиков\n",
        "fig = plt.figure(figsize=(20, 5))\n",
        "gs = fig.add_gridspec(row, col)\n",
        "componetns_list = df_param2['NUM_COMPONENTS'].unique()\n",
        "epoc_list = df_param2['NUM_EPOCHS'].unique()\n",
        "\n",
        "for i, num_comp in enumerate(componetns_list):\n",
        "    df_param_tmp_comp = df_param2[df_param2['NUM_COMPONENTS'] == num_comp]\n",
        "    with sns.axes_style(\"darkgrid\"):\n",
        "        ax = fig.add_subplot(gs[y[i], x[i]])\n",
        "        ax.set_title('Num components {}'.format(num_comp), fontsize=14)\n",
        "        plt.xlabel('Lerning rate', fontsize=13)\n",
        "        plt.ylabel('Score', fontsize=13)\n",
        "        for num_epoc in epoc_list:\n",
        "            plt.plot(df_param_tmp_comp[df_param_tmp_comp.NUM_EPOCHS == num_epoc]['LERNING_RATE'],\n",
        "                     df_param_tmp_comp[df_param_tmp_comp.NUM_EPOCHS == num_epoc]['score'], label='Num epochs {}'.format(num_epoc))\n",
        "        plt.legend(loc=4)\n",
        "\n",
        "fig.tight_layout()"
      ],
      "execution_count": 38,
      "outputs": [
        {
          "output_type": "display_data",
          "data": {
            "image/png": "[encoded data removed]",
            "text/plain": [
              "<Figure size 1440x360 with 4 Axes>"
            ]
          },
          "metadata": {
            "tags": []
          }
        }
      ]
    },
    {
      "cell_type": "code",
      "metadata": {
        "id": "qEHk1rWA5_G7",
        "outputId": "b7132290-f92c-4e38-998d-61b42dc36c29",
        "colab": {
          "base_uri": "https://localhost:8080/",
          "height": 80
        }
      },
      "source": [
        "df_param2[df_param2.score == df_param2.score.max()]"
      ],
      "execution_count": 39,
      "outputs": [
        {
          "output_type": "execute_result",
          "data": {
            "text/html": [
              "<div>\n",
              "<style scoped>\n",
              "    .dataframe tbody tr th:only-of-type {\n",
              "        vertical-align: middle;\n",
              "    }\n",
              "\n",
              "    .dataframe tbody tr th {\n",
              "        vertical-align: top;\n",
              "    }\n",
              "\n",
              "    .dataframe thead th {\n",
              "        text-align: right;\n",
              "    }\n",
              "</style>\n",
              "<table border=\"1\" class=\"dataframe\">\n",
              "  <thead>\n",
              "    <tr style=\"text-align: right;\">\n",
              "      <th></th>\n",
              "      <th>LERNING_SCHEDULE</th>\n",
              "      <th>NUM_COMPONENTS</th>\n",
              "      <th>NUM_EPOCHS</th>\n",
              "      <th>LERNING_RATE</th>\n",
              "      <th>score</th>\n",
              "    </tr>\n",
              "  </thead>\n",
              "  <tbody>\n",
              "    <tr>\n",
              "      <th>5</th>\n",
              "      <td>adagrad</td>\n",
              "      <td>160</td>\n",
              "      <td>15</td>\n",
              "      <td>0.105</td>\n",
              "      <td>0.758961</td>\n",
              "    </tr>\n",
              "  </tbody>\n",
              "</table>\n",
              "</div>"
            ],
            "text/plain": [
              "  LERNING_SCHEDULE  NUM_COMPONENTS  NUM_EPOCHS  LERNING_RATE     score\n",
              "5          adagrad             160          15         0.105  0.758961"
            ]
          },
          "metadata": {
            "tags": []
          },
          "execution_count": 39
        }
      ]
    },
    {
      "cell_type": "markdown",
      "metadata": {
        "id": "NowpLVVvCt8c"
      },
      "source": [
        "**Выводы:**\n",
        "- Видно, что график для количества эпох обучения равным 20, в следующем диапазоне Lerning rate, затухает.\n",
        "- В данном диапазоне Lerning rate максимальных значений достигают графики с количеством эпох обучения 15, однако максимальные значения score не перекрывают максимум предыдущего рассматриваемого диапазона.\n",
        "- Для дальнейшей работы оставим наилучшие параметры, определенные в первом эксперименте. "
      ]
    },
    {
      "cell_type": "code",
      "metadata": {
        "id": "0CqkQjmZ5-_-",
        "outputId": "baefafe4-7390-4f04-f711-ea1abc54818d",
        "colab": {
          "base_uri": "https://localhost:8080/",
          "height": 80
        }
      },
      "source": [
        "df_param[df_param.score == df_param.score.max()]"
      ],
      "execution_count": 40,
      "outputs": [
        {
          "output_type": "execute_result",
          "data": {
            "text/html": [
              "<div>\n",
              "<style scoped>\n",
              "    .dataframe tbody tr th:only-of-type {\n",
              "        vertical-align: middle;\n",
              "    }\n",
              "\n",
              "    .dataframe tbody tr th {\n",
              "        vertical-align: top;\n",
              "    }\n",
              "\n",
              "    .dataframe thead th {\n",
              "        text-align: right;\n",
              "    }\n",
              "</style>\n",
              "<table border=\"1\" class=\"dataframe\">\n",
              "  <thead>\n",
              "    <tr style=\"text-align: right;\">\n",
              "      <th></th>\n",
              "      <th>Unnamed: 0</th>\n",
              "      <th>LERNING_SCHEDULE</th>\n",
              "      <th>NUM_COMPONENTS</th>\n",
              "      <th>NUM_EPOCHS</th>\n",
              "      <th>LERNING_RATE</th>\n",
              "      <th>score</th>\n",
              "    </tr>\n",
              "  </thead>\n",
              "  <tbody>\n",
              "    <tr>\n",
              "      <th>83</th>\n",
              "      <td>83</td>\n",
              "      <td>adagrad</td>\n",
              "      <td>160</td>\n",
              "      <td>20</td>\n",
              "      <td>0.09</td>\n",
              "      <td>0.760773</td>\n",
              "    </tr>\n",
              "  </tbody>\n",
              "</table>\n",
              "</div>"
            ],
            "text/plain": [
              "    Unnamed: 0 LERNING_SCHEDULE  ...  LERNING_RATE     score\n",
              "83          83          adagrad  ...          0.09  0.760773\n",
              "\n",
              "[1 rows x 6 columns]"
            ]
          },
          "metadata": {
            "tags": []
          },
          "execution_count": 40
        }
      ]
    },
    {
      "cell_type": "markdown",
      "metadata": {
        "id": "Y-Je14c9F3R3"
      },
      "source": [
        "## SVD\n",
        "- Попробуем сделать предсказания с помощью другой модели - SVD\n",
        "- Сравним полученные результаты с уже достигнутым прогрессом.\n",
        "- Для корректности сравнения моделей, будем получать предсказания не на части трейна, а на тестовом датасете и сравнивать результаты на платформе Kaggle."
      ]
    },
    {
      "cell_type": "markdown",
      "metadata": {
        "id": "SDSOUDrFz9h_"
      },
      "source": [
        "Подготовим данные"
      ]
    },
    {
      "cell_type": "code",
      "metadata": {
        "id": "2Mqkr3mE5-6i"
      },
      "source": [
        "reader = Reader(rating_scale=(0, 1))\n",
        "\n",
        "df_train = train[['userid', 'itemid', 'rating']]\n",
        "data = Dataset.load_from_df(df_train, reader)\n",
        "\n",
        "trainingSet = data.build_full_trainset()"
      ],
      "execution_count": 41,
      "outputs": []
    },
    {
      "cell_type": "markdown",
      "metadata": {
        "id": "6hOYKVf01woN"
      },
      "source": [
        "Обучим модель"
      ]
    },
    {
      "cell_type": "code",
      "metadata": {
        "id": "05O8pLNEEm80",
        "outputId": "26f9faa7-07ac-43ba-c2f2-f7fde804c140",
        "colab": {
          "base_uri": "https://localhost:8080/"
        }
      },
      "source": [
        "svd = SVD()\n",
        "svd.fit(trainingSet)"
      ],
      "execution_count": 42,
      "outputs": [
        {
          "output_type": "execute_result",
          "data": {
            "text/plain": [
              "<surprise.prediction_algorithms.matrix_factorization.SVD at 0x7fb580a36eb8>"
            ]
          },
          "metadata": {
            "tags": []
          },
          "execution_count": 42
        }
      ]
    },
    {
      "cell_type": "markdown",
      "metadata": {
        "id": "hCwVhz6P5-9c"
      },
      "source": [
        "Получим предсказания на тесте kaggle"
      ]
    },
    {
      "cell_type": "code",
      "metadata": {
        "id": "-BEgiyXL5-Od",
        "outputId": "4b9038ec-5281-4cf5-836c-84c14cce88db",
        "colab": {
          "base_uri": "https://localhost:8080/"
        }
      },
      "source": [
        "df_test = test[['userid', 'itemid']]\n",
        "df_test['rating'] = 0\n",
        "data_test = Dataset.load_from_df(\n",
        "    df_test[['userid', 'itemid', 'rating']], reader)\n",
        "\n",
        "testSet = data_test.construct_testset(data_test.raw_ratings)\n",
        "predictions = svd.test(testSet)\n",
        "pred = [pred.est for pred in predictions]"
      ],
      "execution_count": 43,
      "outputs": [
        {
          "output_type": "stream",
          "text": [
            "/usr/local/lib/python3.6/dist-packages/ipykernel_launcher.py:2: SettingWithCopyWarning: \n",
            "A value is trying to be set on a copy of a slice from a DataFrame.\n",
            "Try using .loc[row_indexer,col_indexer] = value instead\n",
            "\n",
            "See the caveats in the documentation: https://pandas.pydata.org/pandas-docs/stable/user_guide/indexing.html#returning-a-view-versus-a-copy\n",
            "  \n"
          ],
          "name": "stderr"
        }
      ]
    },
    {
      "cell_type": "code",
      "metadata": {
        "id": "me0LbD4AEnjl",
        "outputId": "2abee365-1590-4eb2-d94c-d147e68c4630",
        "colab": {
          "base_uri": "https://localhost:8080/"
        }
      },
      "source": [
        "len(pred)"
      ],
      "execution_count": 44,
      "outputs": [
        {
          "output_type": "execute_result",
          "data": {
            "text/plain": [
              "285965"
            ]
          },
          "metadata": {
            "tags": []
          },
          "execution_count": 44
        }
      ]
    },
    {
      "cell_type": "markdown",
      "metadata": {
        "id": "MqUbTxjg6kLa"
      },
      "source": [
        "**Результат:**\n",
        "- Score на Kaggle получился 0.74679. Это лучше baseline, но хуже модели Lightfm."
      ]
    },
    {
      "cell_type": "markdown",
      "metadata": {
        "id": "JD7VHhbh7Rad"
      },
      "source": [
        "## Гиперпараметры SVD\n",
        "- Попробуем подобрать настройки для SVD-модели."
      ]
    },
    {
      "cell_type": "code",
      "metadata": {
        "id": "JUlLJZmBJ40O"
      },
      "source": [
        "model = SVD(random_state=32, verbose=True)\n",
        "\n",
        "param_grid = {'n_epochs': [10, 20, 30], 'lr_all': [0.005, 0.01],\n",
        "              'n_factors': [60, 100, 160, 200]}\n",
        "gs = GridSearchCV(SVD, param_grid, measures=[\n",
        "                  'rmse', 'mae'], cv=10, joblib_verbose=1)\n",
        "\n",
        "gs.fit(data)\n",
        "\n",
        "# best RMSE score\n",
        "print(gs.best_score['rmse'])\n",
        "\n",
        "# combination of parameters that gave the best RMSE score\n",
        "print(gs.best_params['rmse'])"
      ],
      "execution_count": null,
      "outputs": []
    },
    {
      "cell_type": "markdown",
      "metadata": {
        "id": "9FalwTYmxqAl"
      },
      "source": [
        "- В итоговом ноутбуке код запускать не будем из-за продолжительной работы.\n",
        "- Лучшие параметры получились: n_epochs=30, lr_all=0.01, n_factors=60\n",
        "- Сделаем предсказания с лучшими параметрами SVD-модели."
      ]
    },
    {
      "cell_type": "code",
      "metadata": {
        "id": "kCh-WFHZyLjM",
        "outputId": "997b7541-be03-4fe6-ec86-cd2f811706ac",
        "colab": {
          "base_uri": "https://localhost:8080/"
        }
      },
      "source": [
        "svd = SVD(random_state=32, n_epochs=30, lr_all=0.01, n_factors=60)\n",
        "svd.fit(trainingSet)\n",
        "\n",
        "predictions = svd.test(testSet)\n",
        "pred = [pred.est for pred in predictions]\n",
        "len(pred)"
      ],
      "execution_count": 45,
      "outputs": [
        {
          "output_type": "execute_result",
          "data": {
            "text/plain": [
              "285965"
            ]
          },
          "metadata": {
            "tags": []
          },
          "execution_count": 45
        }
      ]
    },
    {
      "cell_type": "markdown",
      "metadata": {
        "id": "6Hg7dfly8Ygj"
      },
      "source": [
        "**Выводы:**\n",
        "- Подобрали оптимальные параметры.\n",
        "- Еще раз получили предсказания SVD-модели.\n",
        "- Результат на Kaggle улучшился до 0.76104, что очень неплохо, но всё равно не дотягивает до результатов модели Lightfm\n",
        "- Для дальнейшего тестирования остановимся на Lightfm модели."
      ]
    },
    {
      "cell_type": "markdown",
      "metadata": {
        "id": "dltnzm2K-TyT"
      },
      "source": [
        "## Проблема холодного старта\n",
        "- В документации к библиотеке lightfm предлагается решать проблему холодного старта передачей в модель дополнительных матриц с параметрами товаров и пользователей, чтобы модель на основе данных параметров могла предложить рекомендации новым пользователям, а также рекомендовать пользователям новые товары.\n",
        "- Обратная сторона данных действий - возможное ухудшение общего качества рекомендательной системы (ухудшение значений итоговой метрики).\n",
        "- Обработаем признаки из предлагаемых датасетов и попробуем добавить их к моделе.\n",
        "- На первом этапе не будем рассматривать признаки, которые есть в train, но отсутствуют в test.\n",
        "- Если добавление признаков будет давать положительный эффект, посмотрим, что можно получить из оставшихся данных."
      ]
    },
    {
      "cell_type": "markdown",
      "metadata": {
        "id": "usX3Vgp4rQ9e"
      },
      "source": [
        "### EDA\n",
        "**Пересекающиеся признаки в train и test**\n",
        "- verified\n",
        "- reviewTime\n",
        "- asin\n",
        "- reviewerName\n",
        "- unixReviewTime\n",
        "- vote\n",
        "- style\n",
        "- image\n",
        "- rating"
      ]
    },
    {
      "cell_type": "code",
      "metadata": {
        "id": "BHzbpjnH1hLU"
      },
      "source": [
        "# Создадим временный дата фрем для обработки признаков\n",
        "df_eda = train[['verified', 'reviewTime', 'asin', 'reviewerName',\n",
        "                'unixReviewTime', 'vote', 'style', 'image', 'userid', 'itemid', 'rating']]"
      ],
      "execution_count": 46,
      "outputs": []
    },
    {
      "cell_type": "code",
      "metadata": {
        "id": "AOQ8cjMO--oA",
        "outputId": "3ea2c8ff-b338-42fc-e551-637a42a7bfc7",
        "colab": {
          "base_uri": "https://localhost:8080/"
        }
      },
      "source": [
        "df_eda.info()"
      ],
      "execution_count": 47,
      "outputs": [
        {
          "output_type": "stream",
          "text": [
            "<class 'pandas.core.frame.DataFrame'>\n",
            "RangeIndex: 857895 entries, 0 to 857894\n",
            "Data columns (total 11 columns):\n",
            " #   Column          Non-Null Count   Dtype  \n",
            "---  ------          --------------   -----  \n",
            " 0   verified        857895 non-null  bool   \n",
            " 1   reviewTime      857895 non-null  object \n",
            " 2   asin            857895 non-null  object \n",
            " 3   reviewerName    857719 non-null  object \n",
            " 4   unixReviewTime  857895 non-null  int64  \n",
            " 5   vote            118740 non-null  object \n",
            " 6   style           444406 non-null  object \n",
            " 7   image           7142 non-null    object \n",
            " 8   userid          857895 non-null  int64  \n",
            " 9   itemid          857895 non-null  int64  \n",
            " 10  rating          857895 non-null  float64\n",
            "dtypes: bool(1), float64(1), int64(3), object(6)\n",
            "memory usage: 66.3+ MB\n"
          ],
          "name": "stdout"
        }
      ]
    },
    {
      "cell_type": "markdown",
      "metadata": {
        "id": "Wdq-2SvU_vZJ"
      },
      "source": [
        "**verified** - был ли отзыв верифицирован\n",
        "- Пропусков нет."
      ]
    },
    {
      "cell_type": "code",
      "metadata": {
        "id": "yue3tQah-_7P",
        "outputId": "1f9b6217-9e0c-4af8-de54-710f0a8da15a",
        "colab": {
          "base_uri": "https://localhost:8080/",
          "height": 423
        }
      },
      "source": [
        "get_gr_counts('verified')"
      ],
      "execution_count": 48,
      "outputs": [
        {
          "output_type": "stream",
          "text": [
            "True     745243\n",
            "False    112652\n",
            "Name: verified, dtype: int64\n",
            "\n"
          ],
          "name": "stdout"
        },
        {
          "output_type": "display_data",
          "data": {
            "image/png": "[encoded data removed]",
            "text/plain": [
              "<Figure size 864x360 with 2 Axes>"
            ]
          },
          "metadata": {
            "tags": []
          }
        }
      ]
    },
    {
      "cell_type": "markdown",
      "metadata": {
        "id": "u59hyIKD_YiO"
      },
      "source": [
        "Заменим данные на 1 и 0"
      ]
    },
    {
      "cell_type": "code",
      "metadata": {
        "id": "upWnSfND_OE-",
        "outputId": "a9c4222b-bc3f-4a08-9798-b46d7421bab9",
        "colab": {
          "base_uri": "https://localhost:8080/"
        }
      },
      "source": [
        "df_eda.verified = df_eda.verified.astype('int32')"
      ],
      "execution_count": 49,
      "outputs": [
        {
          "output_type": "stream",
          "text": [
            "/usr/local/lib/python3.6/dist-packages/pandas/core/generic.py:5168: SettingWithCopyWarning: \n",
            "A value is trying to be set on a copy of a slice from a DataFrame.\n",
            "Try using .loc[row_indexer,col_indexer] = value instead\n",
            "\n",
            "See the caveats in the documentation: https://pandas.pydata.org/pandas-docs/stable/user_guide/indexing.html#returning-a-view-versus-a-copy\n",
            "  self[name] = value\n"
          ],
          "name": "stderr"
        }
      ]
    },
    {
      "cell_type": "markdown",
      "metadata": {
        "id": "wlCjExYvAAjU"
      },
      "source": [
        "Посмотрим на среднее значение целевой переменной для групп"
      ]
    },
    {
      "cell_type": "code",
      "metadata": {
        "id": "j3zV9XfF_7Ki",
        "outputId": "28ce9eba-163d-46bb-b4e2-6c492225149e",
        "colab": {
          "base_uri": "https://localhost:8080/"
        }
      },
      "source": [
        "print(df_eda[df_eda.verified == 1].rating.mean())\n",
        "print(df_eda[df_eda.verified == 0].rating.mean())"
      ],
      "execution_count": 50,
      "outputs": [
        {
          "output_type": "stream",
          "text": [
            "0.8590540266731791\n",
            "0.7819301920960124\n"
          ],
          "name": "stdout"
        }
      ]
    },
    {
      "cell_type": "markdown",
      "metadata": {
        "id": "ouO3nujvALsi"
      },
      "source": [
        "**Предварительный вывод:** Средний балл у авторизованных отзывов выше. Признак должен влиять но скор."
      ]
    },
    {
      "cell_type": "markdown",
      "metadata": {
        "id": "quPirECvAY0Z"
      },
      "source": [
        "**reviewTime - когда был написан отзыв**\n",
        "- reviewTime - данный признак дублирует аналогичную информацию из колонки unixReviewTime.\n",
        "- Пропусков нет ни там, ни там.\n",
        "- Удалим reviewTime, как менее удобный формат для дальнейшей работы."
      ]
    },
    {
      "cell_type": "code",
      "metadata": {
        "id": "DZ8P1xUmAIX9"
      },
      "source": [
        "df_eda = df_eda.drop(['reviewTime'], axis=1)"
      ],
      "execution_count": 51,
      "outputs": []
    },
    {
      "cell_type": "markdown",
      "metadata": {
        "id": "Aus7PweZBB0p"
      },
      "source": [
        "**asin**"
      ]
    },
    {
      "cell_type": "code",
      "metadata": {
        "id": "5tgSK9kAAoQj",
        "outputId": "c655082f-8258-454c-c4cb-0348f750942c",
        "colab": {
          "base_uri": "https://localhost:8080/"
        }
      },
      "source": [
        "df_eda.asin.value_counts()"
      ],
      "execution_count": 52,
      "outputs": [
        {
          "output_type": "execute_result",
          "data": {
            "text/plain": [
              "B00BUKL666    5491\n",
              "B00D3M2QP4    4733\n",
              "B008QMX2SG    4654\n",
              "B00R7PWK7W    2547\n",
              "B000X3TPHS    2300\n",
              "              ... \n",
              "B001682U6M       1\n",
              "B00AU8UTYO       1\n",
              "B008J46E9A       1\n",
              "B0015D21XU       1\n",
              "B00KS712Q6       1\n",
              "Name: asin, Length: 41302, dtype: int64"
            ]
          },
          "metadata": {
            "tags": []
          },
          "execution_count": 52
        }
      ]
    },
    {
      "cell_type": "markdown",
      "metadata": {
        "id": "CIpJnIUgBKOF"
      },
      "source": [
        "- Похоже на артикул товара.\n",
        "- Проверим пять самых популярных артикулов на соответствие с itemid"
      ]
    },
    {
      "cell_type": "code",
      "metadata": {
        "id": "WH7f5nBXBIde",
        "outputId": "e7757133-8364-467f-dd8e-0e918ce14e41",
        "colab": {
          "base_uri": "https://localhost:8080/"
        }
      },
      "source": [
        "print(train[train.asin == 'B00BUKL666']['itemid'].value_counts())\n",
        "print(train[train.asin == 'B00D3M2QP4']['itemid'].value_counts())\n",
        "print(train[train.asin == 'B008QMX2SG']['itemid'].value_counts())\n",
        "print(train[train.asin == 'B00R7PWK7W']['itemid'].value_counts())\n",
        "print(train[train.asin == 'B000X3TPHS']['itemid'].value_counts())"
      ],
      "execution_count": 53,
      "outputs": [
        {
          "output_type": "stream",
          "text": [
            "22208    5491\n",
            "Name: itemid, dtype: int64\n",
            "23540    4733\n",
            "Name: itemid, dtype: int64\n",
            "24556    4654\n",
            "Name: itemid, dtype: int64\n",
            "32046    2547\n",
            "Name: itemid, dtype: int64\n",
            "5195    2300\n",
            "Name: itemid, dtype: int64\n"
          ],
          "name": "stdout"
        }
      ]
    },
    {
      "cell_type": "markdown",
      "metadata": {
        "id": "iUuHKODUBSBD"
      },
      "source": [
        "**Вывод:** Полное соответствие itemid. Признак можно удалять."
      ]
    },
    {
      "cell_type": "code",
      "metadata": {
        "id": "oqHZfGbxBP1l"
      },
      "source": [
        "df_eda = df_eda.drop(['asin'], axis=1)"
      ],
      "execution_count": 54,
      "outputs": []
    },
    {
      "cell_type": "markdown",
      "metadata": {
        "id": "D17VHUB1BblT"
      },
      "source": [
        "**reviewerName** - текстовый аналог userid. Признак можно удалять по аналогии с артикулом."
      ]
    },
    {
      "cell_type": "code",
      "metadata": {
        "id": "PKnJuHYQBWdF"
      },
      "source": [
        "df_eda = df_eda.drop(['reviewerName'], axis=1)"
      ],
      "execution_count": 55,
      "outputs": []
    },
    {
      "cell_type": "markdown",
      "metadata": {
        "id": "YQvNoXOuBktg"
      },
      "source": [
        "**unixReviewTime** - время публикации отзыва\n",
        "- Пропусков нет."
      ]
    },
    {
      "cell_type": "code",
      "metadata": {
        "id": "9oNXuV52BjA1",
        "outputId": "f7c58d53-cff7-4169-c63d-44c0cedd3c29",
        "colab": {
          "base_uri": "https://localhost:8080/",
          "height": 409
        }
      },
      "source": [
        "get_gr_num('unixReviewTime', 100)"
      ],
      "execution_count": 56,
      "outputs": [
        {
          "output_type": "stream",
          "text": [
            "/usr/local/lib/python3.6/dist-packages/seaborn/distributions.py:2551: FutureWarning: `distplot` is a deprecated function and will be removed in a future version. Please adapt your code to use either `displot` (a figure-level function with similar flexibility) or `histplot` (an axes-level function for histograms).\n",
            "  warnings.warn(msg, FutureWarning)\n"
          ],
          "name": "stderr"
        },
        {
          "output_type": "display_data",
          "data": {
            "image/png": "[encoded data removed]",
            "text/plain": [
              "<Figure size 1296x360 with 3 Axes>"
            ]
          },
          "metadata": {
            "tags": []
          }
        }
      ]
    },
    {
      "cell_type": "markdown",
      "metadata": {
        "id": "jWXy_uylEMVQ"
      },
      "source": [
        "**Предварительный вывод:**\n",
        "- Видны периоды равномерной оценки товаров, периоды преобладания положительных отзывов и периоды преобладания отрицательных отзывов.\n",
        "- Также видны пики и провалы количества отзывов.\n",
        "- Попробуем учесть это матрице дополнительных признаков для модели."
      ]
    },
    {
      "cell_type": "code",
      "metadata": {
        "id": "JfySjCctEHBS"
      },
      "source": [
        "df_eda['review_time_old'] = (\n",
        "    df_eda['unixReviewTime'] < 1350000000).astype('int32')\n",
        "df_eda['review_time_new'] = (\n",
        "    df_eda['unixReviewTime'] > 1490000000).astype('int32')\n",
        "df_eda['review_time_middle'] = (\n",
        "    df_eda['review_time_old'] + df_eda['review_time_new'] == 0).astype('int32')"
      ],
      "execution_count": 57,
      "outputs": []
    },
    {
      "cell_type": "markdown",
      "metadata": {
        "id": "nvXkc2dLEVx_"
      },
      "source": [
        "Посмотрим есть ли различия в созданных группах"
      ]
    },
    {
      "cell_type": "code",
      "metadata": {
        "id": "s8-QhH7zEXjV",
        "outputId": "15c66c8d-8af6-47c3-9ad4-327bfc2fa794",
        "colab": {
          "base_uri": "https://localhost:8080/"
        }
      },
      "source": [
        "print(df_eda[df_eda.review_time_old == 1].rating.mean())\n",
        "print(df_eda[df_eda.review_time_new == 1].rating.mean())\n",
        "print(df_eda[df_eda.review_time_middle == 1].rating.mean())"
      ],
      "execution_count": 58,
      "outputs": [
        {
          "output_type": "stream",
          "text": [
            "0.8067964731814842\n",
            "0.8357517064475457\n",
            "0.8565430133651467\n"
          ],
          "name": "stdout"
        }
      ]
    },
    {
      "cell_type": "markdown",
      "metadata": {
        "id": "kLM48nt5Eb1j"
      },
      "source": [
        "- Показатели групп растут по 2%.\n",
        "- Удалим старый признак unixReviewTime"
      ]
    },
    {
      "cell_type": "code",
      "metadata": {
        "id": "hqkcI54_EhlL"
      },
      "source": [
        "df_eda = df_eda.drop(['unixReviewTime'], axis=1)"
      ],
      "execution_count": 59,
      "outputs": []
    },
    {
      "cell_type": "markdown",
      "metadata": {
        "id": "wZFFokdwEkZH"
      },
      "source": [
        "**vote** - количество голосований за отзыв"
      ]
    },
    {
      "cell_type": "code",
      "metadata": {
        "id": "rMldftsXEjt0",
        "outputId": "98a18281-438a-4942-f243-297db425c5dd",
        "colab": {
          "base_uri": "https://localhost:8080/"
        }
      },
      "source": [
        "df_eda.vote.unique()"
      ],
      "execution_count": 60,
      "outputs": [
        {
          "output_type": "execute_result",
          "data": {
            "text/plain": [
              "array([nan, '28', '2', '3', '4', '5', '45', '9', '55', '8', '39', '13',\n",
              "       '20', '7', '6', '16', '18', '27', '54', '24', '10', '11', '46',\n",
              "       '29', '15', '12', '14', '136', '22', '33', '131', '21', '17', '19',\n",
              "       '23', '30', '26', '31', '25', '113', '334', '52', '37', '43', '56',\n",
              "       '44', '57', '123', '91', '41', '146', '42', '70', '34', '49', '77',\n",
              "       '35', '115', '53', '68', '560', '32', '265', '38', '135', '58',\n",
              "       '50', '92', '189', '250', '155', '47', '78', '118', '62', '36',\n",
              "       '105', '926', '106', '40', '107', '86', '375', '139', '1,626',\n",
              "       '79', '71', '66', '109', '82', '85', '89', '94', '111', '342',\n",
              "       '83', '516', '96', '278', '98', '65', '195', '88', '80', '48',\n",
              "       '84', '141', '112', '72', '59', '163', '87', '81', '157', '64',\n",
              "       '257', '63', 20.0, 2.0, 3.0, 5.0, 10.0, 4.0, 64.0, 12.0, 14.0,\n",
              "       52.0, 6.0, 16.0, 13.0, 8.0, 18.0, 19.0, 9.0, 43.0, 37.0, 24.0, 7.0,\n",
              "       17.0, 47.0, 44.0, 40.0, 35.0, 15.0, 11.0, 33.0, 26.0, 23.0, 68.0,\n",
              "       42.0, 29.0, 28.0, 25.0, 185.0, 53.0, 21.0, 55.0, 644.0, 38.0, 76.0,\n",
              "       22.0, 39.0, 50.0, 95.0, 46.0, 27.0, 66.0, 224.0, 63.0, 127.0, 41.0,\n",
              "       36.0, 109.0, 30.0, 87.0, 31.0, 74.0, 32.0, 59.0, 73.0, 51.0, 179.0,\n",
              "       239.0, 58.0, 70.0, 45.0, 34.0, 217.0, 77.0, 133.0, 143.0, 82.0,\n",
              "       101.0, 107.0, 117.0, 156.0, 214.0, 290.0, 129.0, 157.0, 61.0, 60.0,\n",
              "       110.0, 94.0, 86.0, 264.0, 126.0, 99.0, 57.0, 65.0, 79.0, 123.0,\n",
              "       89.0, 113.0, 175.0, 81.0, 186.0, 100.0, 62.0, 48.0, 92.0, 195.0,\n",
              "       251.0, 128.0, 56.0, 49.0, 102.0, 136.0, 125.0, 275.0, 180.0, 88.0,\n",
              "       149.0, 80.0, 387.0, 83.0, 144.0, 72.0, 227.0, 222.0, 577.0, 71.0,\n",
              "       '60', '51', '121', '221', '289', '122', '120', '1,157', '95',\n",
              "       '223', '284', '300', '110', '101', '188', '232', '153', '76',\n",
              "       '172', '148', '93', '416', '145', '97', '309', '428', '1,383',\n",
              "       '264', '144', '67', '187', '176', '170', '154', '150', '102',\n",
              "       '228', '193', '343', '143', '169', '61', '117', '74', '151', '240',\n",
              "       '202', '69', '230', '104', '710', '75', '1,060', '164', '385',\n",
              "       '142', '119', '180', '99', '125', '331', '205', '73', '460', '363',\n",
              "       '132', '127', '181', '173', '159', '184', '302', '116', '133',\n",
              "       '349', '622', '129', '588', '152', '128', '712', '218', '296',\n",
              "       '716', '186', '126', '251', '624', '1,491', '171', '679', '174',\n",
              "       '392', 208.0, 154.0, 139.0, 375.0, 98.0, 291.0, 69.0, 362.0, 85.0,\n",
              "       134.0, 188.0, 54.0, 150.0, 67.0, 220.0, 272.0, 90.0, 576.0, 124.0,\n",
              "       121.0, 132.0, 289.0, 269.0, 172.0, 359.0, 106.0, 327.0, 226.0,\n",
              "       232.0, 168.0, 108.0, 241.0, 75.0, 84.0, 242.0, 78.0, 190.0, 194.0,\n",
              "       247.0, 202.0, 193.0, 184.0, 229.0, 96.0, 373.0, 160.0, 118.0,\n",
              "       680.0, 659.0, 147.0, 146.0, 752.0, 199.0, 296.0, 119.0, 276.0,\n",
              "       881.0, 159.0, 91.0, 112.0, 166.0, 114.0, 142.0, 594.0, 414.0,\n",
              "       103.0, 115.0, 246.0, 393.0, 145.0, 268.0, 216.0, 105.0, 679.0,\n",
              "       164.0, 273.0, 295.0, 198.0, 141.0, 181.0, 603.0, 507.0, 104.0,\n",
              "       278.0, 191.0, 138.0, 173.0, 111.0, 317.0, 116.0, 259.0, 255.0,\n",
              "       404.0, 165.0, 209.0, 130.0, 435.0, 203.0, 93.0, 358.0, 131.0,\n",
              "       377.0, 197.0, 402.0, 225.0, 360.0, 192.0, 300.0, 316.0, 176.0,\n",
              "       310.0, 120.0, 351.0, 934.0, 817.0, 238.0, 240.0, 148.0, 580.0,\n",
              "       170.0, 97.0, 158.0, 205.0, 167.0, 363.0, 369.0, 425.0, 206.0,\n",
              "       254.0, 265.0, 824.0, 531.0, 211.0, 266.0, 857.0, 346.0, 171.0,\n",
              "       304.0, 140.0, 210.0, 122.0, 263.0, 187.0], dtype=object)"
            ]
          },
          "metadata": {
            "tags": []
          },
          "execution_count": 60
        }
      ]
    },
    {
      "cell_type": "markdown",
      "metadata": {
        "id": "-KknClhyEtmf"
      },
      "source": [
        "- Есть пропуски. Будем считать, что в данном случае голосований за отзыв не было. Заменим пропуски на 0.\n",
        "- Данные представлены в текстовом формате. Преобразуем в числовой."
      ]
    },
    {
      "cell_type": "code",
      "metadata": {
        "id": "TadavZ65Enj0"
      },
      "source": [
        "df_eda.vote = df_eda.vote.fillna(0)\n",
        "df_eda.vote = df_eda.vote.astype('str')\n",
        "df_eda.vote = df_eda.vote.apply(lambda x: x.replace(',', ''))\n",
        "df_eda.vote = df_eda.vote.astype('float')\n",
        "df_eda.vote = df_eda.vote.astype('int')"
      ],
      "execution_count": 61,
      "outputs": []
    },
    {
      "cell_type": "markdown",
      "metadata": {
        "id": "Bv29ewo6EzJZ"
      },
      "source": [
        "Разобьем на группы:\n",
        "- 0\n",
        "- до 100\n",
        "- до 1000\n",
        "- свыше 1000"
      ]
    },
    {
      "cell_type": "code",
      "metadata": {
        "id": "cRUDYKIuEsn9"
      },
      "source": [
        "df_eda['vote_0'] = (df_eda.vote == 0).astype('int32')\n",
        "df_eda['vote_0_100'] = ((df_eda.vote != 0) & (\n",
        "    df_eda.vote < 100)).astype('int32')\n",
        "df_eda['vote_100_1000'] = ((df_eda.vote >= 100) & (\n",
        "    df_eda.vote < 1000)).astype('int32')\n",
        "df_eda['vote_1000'] = (df_eda.vote >= 1000).astype('int32')"
      ],
      "execution_count": 62,
      "outputs": []
    },
    {
      "cell_type": "markdown",
      "metadata": {
        "id": "rLAI0U8HE4Ar"
      },
      "source": [
        "Посмотрим разницу в средних оценках созданных групп."
      ]
    },
    {
      "cell_type": "code",
      "metadata": {
        "id": "AwAowhuGE2J1",
        "outputId": "0ef99448-bb87-4a29-b544-8f438a4e0095",
        "colab": {
          "base_uri": "https://localhost:8080/"
        }
      },
      "source": [
        "print(df_eda[df_eda.vote_0 == 1].rating.mean())\n",
        "print(df_eda[df_eda.vote_0_100 == 1].rating.mean())\n",
        "print(df_eda[df_eda.vote_100_1000 == 1].rating.mean())\n",
        "print(df_eda[df_eda.vote_1000 == 1].rating.mean())"
      ],
      "execution_count": 63,
      "outputs": [
        {
          "output_type": "stream",
          "text": [
            "0.8621669338636686\n",
            "0.7664441115990962\n",
            "0.7846975088967971\n",
            "0.2\n"
          ],
          "name": "stdout"
        }
      ]
    },
    {
      "cell_type": "markdown",
      "metadata": {
        "id": "id3Mk8kyE77p"
      },
      "source": [
        "**Предварительный вывод:**\n",
        "- Наблюдается существенное различие в средних оценках созданных групп.\n",
        "- Признак должен положительно влиять на итоговый скор.\n",
        "- Удалим столбец vote."
      ]
    },
    {
      "cell_type": "code",
      "metadata": {
        "id": "e-yHUBq5E6M8"
      },
      "source": [
        "df_eda = df_eda.drop(['vote'], axis=1)"
      ],
      "execution_count": 64,
      "outputs": []
    },
    {
      "cell_type": "markdown",
      "metadata": {
        "id": "V0YxJF6hFCoS"
      },
      "source": [
        "**style** - метаданные (характеристики товаров)."
      ]
    },
    {
      "cell_type": "code",
      "metadata": {
        "id": "X6ldKPUrE_rc",
        "outputId": "a808b6ca-6853-468b-80cf-aee21c2bdb99",
        "colab": {
          "base_uri": "https://localhost:8080/"
        }
      },
      "source": [
        "df_eda['style'].isnull().sum()"
      ],
      "execution_count": 65,
      "outputs": [
        {
          "output_type": "execute_result",
          "data": {
            "text/plain": [
              "413489"
            ]
          },
          "metadata": {
            "tags": []
          },
          "execution_count": 65
        }
      ]
    },
    {
      "cell_type": "markdown",
      "metadata": {
        "id": "1fK4s_OaFIKM"
      },
      "source": [
        "**Предварительный вывод:**\n",
        "- Очень много пустых значений.\n",
        "- Пока сделаем бинарный признак для товаров, где были характеристики и где их не было.\n",
        "- Удалим старый признак style."
      ]
    },
    {
      "cell_type": "code",
      "metadata": {
        "id": "sdBcFHGoFFnL"
      },
      "source": [
        "df_eda['style_yes'] = (df_eda['style'].isnull() == False).astype('int32')\n",
        "df_eda = df_eda.drop(['style'], axis=1)"
      ],
      "execution_count": 66,
      "outputs": []
    },
    {
      "cell_type": "markdown",
      "metadata": {
        "id": "oyXpvghfFOWS"
      },
      "source": [
        "**image** - изображение товара"
      ]
    },
    {
      "cell_type": "code",
      "metadata": {
        "id": "jcnd6Yl1FMMc",
        "outputId": "89623307-175c-4d1e-9486-28d7b8fce263",
        "colab": {
          "base_uri": "https://localhost:8080/"
        }
      },
      "source": [
        "df_eda['image'].isnull().sum()/len(df_eda)"
      ],
      "execution_count": 67,
      "outputs": [
        {
          "output_type": "execute_result",
          "data": {
            "text/plain": [
              "0.991674971878843"
            ]
          },
          "metadata": {
            "tags": []
          },
          "execution_count": 67
        }
      ]
    },
    {
      "cell_type": "markdown",
      "metadata": {
        "id": "FsaPTVcTFSRL"
      },
      "source": [
        "**Вывод:** У 99% товаров отсутствует изображение. Признак бесполезен, можно удалять."
      ]
    },
    {
      "cell_type": "code",
      "metadata": {
        "id": "kYUNPUsZFQms"
      },
      "source": [
        "df_eda = df_eda.drop(['image'], axis=1)"
      ],
      "execution_count": 68,
      "outputs": []
    },
    {
      "cell_type": "markdown",
      "metadata": {
        "id": "fsud7LNgGCuX"
      },
      "source": [
        "**Итоговая матрица признаков**"
      ]
    },
    {
      "cell_type": "code",
      "metadata": {
        "id": "L_3OHdReGCIi",
        "outputId": "f0b8faa6-c617-4343-d053-845bc0f1cb42",
        "colab": {
          "base_uri": "https://localhost:8080/",
          "height": 419
        }
      },
      "source": [
        "df_eda"
      ],
      "execution_count": 69,
      "outputs": [
        {
          "output_type": "execute_result",
          "data": {
            "text/html": [
              "<div>\n",
              "<style scoped>\n",
              "    .dataframe tbody tr th:only-of-type {\n",
              "        vertical-align: middle;\n",
              "    }\n",
              "\n",
              "    .dataframe tbody tr th {\n",
              "        vertical-align: top;\n",
              "    }\n",
              "\n",
              "    .dataframe thead th {\n",
              "        text-align: right;\n",
              "    }\n",
              "</style>\n",
              "<table border=\"1\" class=\"dataframe\">\n",
              "  <thead>\n",
              "    <tr style=\"text-align: right;\">\n",
              "      <th></th>\n",
              "      <th>verified</th>\n",
              "      <th>userid</th>\n",
              "      <th>itemid</th>\n",
              "      <th>rating</th>\n",
              "      <th>review_time_old</th>\n",
              "      <th>review_time_new</th>\n",
              "      <th>review_time_middle</th>\n",
              "      <th>vote_0</th>\n",
              "      <th>vote_0_100</th>\n",
              "      <th>vote_100_1000</th>\n",
              "      <th>vote_1000</th>\n",
              "      <th>style_yes</th>\n",
              "    </tr>\n",
              "  </thead>\n",
              "  <tbody>\n",
              "    <tr>\n",
              "      <th>0</th>\n",
              "      <td>1</td>\n",
              "      <td>102179</td>\n",
              "      <td>37138</td>\n",
              "      <td>1.0</td>\n",
              "      <td>0</td>\n",
              "      <td>0</td>\n",
              "      <td>1</td>\n",
              "      <td>1</td>\n",
              "      <td>0</td>\n",
              "      <td>0</td>\n",
              "      <td>0</td>\n",
              "      <td>0</td>\n",
              "    </tr>\n",
              "    <tr>\n",
              "      <th>1</th>\n",
              "      <td>1</td>\n",
              "      <td>3625</td>\n",
              "      <td>17322</td>\n",
              "      <td>1.0</td>\n",
              "      <td>0</td>\n",
              "      <td>0</td>\n",
              "      <td>1</td>\n",
              "      <td>1</td>\n",
              "      <td>0</td>\n",
              "      <td>0</td>\n",
              "      <td>0</td>\n",
              "      <td>1</td>\n",
              "    </tr>\n",
              "    <tr>\n",
              "      <th>2</th>\n",
              "      <td>1</td>\n",
              "      <td>39495</td>\n",
              "      <td>5600</td>\n",
              "      <td>1.0</td>\n",
              "      <td>0</td>\n",
              "      <td>0</td>\n",
              "      <td>1</td>\n",
              "      <td>0</td>\n",
              "      <td>1</td>\n",
              "      <td>0</td>\n",
              "      <td>0</td>\n",
              "      <td>0</td>\n",
              "    </tr>\n",
              "    <tr>\n",
              "      <th>3</th>\n",
              "      <td>1</td>\n",
              "      <td>72854</td>\n",
              "      <td>30249</td>\n",
              "      <td>1.0</td>\n",
              "      <td>0</td>\n",
              "      <td>0</td>\n",
              "      <td>1</td>\n",
              "      <td>1</td>\n",
              "      <td>0</td>\n",
              "      <td>0</td>\n",
              "      <td>0</td>\n",
              "      <td>0</td>\n",
              "    </tr>\n",
              "    <tr>\n",
              "      <th>4</th>\n",
              "      <td>1</td>\n",
              "      <td>74859</td>\n",
              "      <td>4349</td>\n",
              "      <td>1.0</td>\n",
              "      <td>0</td>\n",
              "      <td>0</td>\n",
              "      <td>1</td>\n",
              "      <td>1</td>\n",
              "      <td>0</td>\n",
              "      <td>0</td>\n",
              "      <td>0</td>\n",
              "      <td>1</td>\n",
              "    </tr>\n",
              "    <tr>\n",
              "      <th>...</th>\n",
              "      <td>...</td>\n",
              "      <td>...</td>\n",
              "      <td>...</td>\n",
              "      <td>...</td>\n",
              "      <td>...</td>\n",
              "      <td>...</td>\n",
              "      <td>...</td>\n",
              "      <td>...</td>\n",
              "      <td>...</td>\n",
              "      <td>...</td>\n",
              "      <td>...</td>\n",
              "      <td>...</td>\n",
              "    </tr>\n",
              "    <tr>\n",
              "      <th>857890</th>\n",
              "      <td>1</td>\n",
              "      <td>59433</td>\n",
              "      <td>2566</td>\n",
              "      <td>1.0</td>\n",
              "      <td>0</td>\n",
              "      <td>0</td>\n",
              "      <td>1</td>\n",
              "      <td>1</td>\n",
              "      <td>0</td>\n",
              "      <td>0</td>\n",
              "      <td>0</td>\n",
              "      <td>1</td>\n",
              "    </tr>\n",
              "    <tr>\n",
              "      <th>857891</th>\n",
              "      <td>1</td>\n",
              "      <td>86473</td>\n",
              "      <td>5828</td>\n",
              "      <td>0.0</td>\n",
              "      <td>0</td>\n",
              "      <td>0</td>\n",
              "      <td>1</td>\n",
              "      <td>1</td>\n",
              "      <td>0</td>\n",
              "      <td>0</td>\n",
              "      <td>0</td>\n",
              "      <td>1</td>\n",
              "    </tr>\n",
              "    <tr>\n",
              "      <th>857892</th>\n",
              "      <td>0</td>\n",
              "      <td>88</td>\n",
              "      <td>3251</td>\n",
              "      <td>1.0</td>\n",
              "      <td>0</td>\n",
              "      <td>0</td>\n",
              "      <td>1</td>\n",
              "      <td>1</td>\n",
              "      <td>0</td>\n",
              "      <td>0</td>\n",
              "      <td>0</td>\n",
              "      <td>1</td>\n",
              "    </tr>\n",
              "    <tr>\n",
              "      <th>857893</th>\n",
              "      <td>1</td>\n",
              "      <td>41540</td>\n",
              "      <td>22208</td>\n",
              "      <td>1.0</td>\n",
              "      <td>0</td>\n",
              "      <td>0</td>\n",
              "      <td>1</td>\n",
              "      <td>1</td>\n",
              "      <td>0</td>\n",
              "      <td>0</td>\n",
              "      <td>0</td>\n",
              "      <td>0</td>\n",
              "    </tr>\n",
              "    <tr>\n",
              "      <th>857894</th>\n",
              "      <td>1</td>\n",
              "      <td>466</td>\n",
              "      <td>2931</td>\n",
              "      <td>1.0</td>\n",
              "      <td>0</td>\n",
              "      <td>1</td>\n",
              "      <td>0</td>\n",
              "      <td>1</td>\n",
              "      <td>0</td>\n",
              "      <td>0</td>\n",
              "      <td>0</td>\n",
              "      <td>0</td>\n",
              "    </tr>\n",
              "  </tbody>\n",
              "</table>\n",
              "<p>857895 rows × 12 columns</p>\n",
              "</div>"
            ],
            "text/plain": [
              "        verified  userid  itemid  ...  vote_100_1000  vote_1000  style_yes\n",
              "0              1  102179   37138  ...              0          0          0\n",
              "1              1    3625   17322  ...              0          0          1\n",
              "2              1   39495    5600  ...              0          0          0\n",
              "3              1   72854   30249  ...              0          0          0\n",
              "4              1   74859    4349  ...              0          0          1\n",
              "...          ...     ...     ...  ...            ...        ...        ...\n",
              "857890         1   59433    2566  ...              0          0          1\n",
              "857891         1   86473    5828  ...              0          0          1\n",
              "857892         0      88    3251  ...              0          0          1\n",
              "857893         1   41540   22208  ...              0          0          0\n",
              "857894         1     466    2931  ...              0          0          0\n",
              "\n",
              "[857895 rows x 12 columns]"
            ]
          },
          "metadata": {
            "tags": []
          },
          "execution_count": 69
        }
      ]
    },
    {
      "cell_type": "markdown",
      "metadata": {
        "id": "5DXoBrjaxAng"
      },
      "source": [
        "Корреляции признаков"
      ]
    },
    {
      "cell_type": "code",
      "metadata": {
        "id": "Z8yoRGw-vZWe",
        "outputId": "b3f68e68-9058-4a38-9231-218fa490ccb9",
        "colab": {
          "base_uri": "https://localhost:8080/",
          "height": 766
        }
      },
      "source": [
        "sns.set(font_scale=1)\n",
        "plt.subplots(figsize=(12, 12))\n",
        "plt.title('Матрица корреляций признаков \\n', fontsize=14)\n",
        "sns.heatmap(df_eda.corr(), square=True,\n",
        "            annot=True, fmt=\".1f\", linewidths=0.1, cmap=\"RdBu\")"
      ],
      "execution_count": 70,
      "outputs": [
        {
          "output_type": "execute_result",
          "data": {
            "text/plain": [
              "<matplotlib.axes._subplots.AxesSubplot at 0x7fb569a3e3c8>"
            ]
          },
          "metadata": {
            "tags": []
          },
          "execution_count": 70
        },
        {
          "output_type": "display_data",
          "data": {
            "image/png": "[encoded data removed]",
            "text/plain": [
              "<Figure size 864x864 with 2 Axes>"
            ]
          },
          "metadata": {
            "tags": []
          }
        }
      ]
    },
    {
      "cell_type": "markdown",
      "metadata": {
        "id": "EwQ5lJYEy2VV"
      },
      "source": [
        "- Наблюдается 100% обратная корреляция между признаками vote_0 и vote_0_100, что в общем-то логично. Один из признаков не будем использовать для передачи в модель.\n",
        "- Наблюдается высокая корреляция между новыми отзывами и отзывами написанными в средний интервал времени, однако данные признаки оставим для тестирования модели, т. к. графики и расчеты, сделанные выше, показывают их различное влияние на итоговую метрику."
      ]
    },
    {
      "cell_type": "markdown",
      "metadata": {
        "id": "eG4j4PKHcUZj"
      },
      "source": [
        "### Протестируем модель с дополнительной матрицей признаков товаров\n",
        "Алгоритм добавления признаков взят из видеовстречи по проекту."
      ]
    },
    {
      "cell_type": "code",
      "metadata": {
        "id": "b4ctiDDeGIsL"
      },
      "source": [
        "list_item_features = ['verified', 'review_time_old', 'review_time_new',\n",
        "                      'review_time_middle', 'vote_0_100', 'vote_100_1000', 'vote_1000', 'style_yes']"
      ],
      "execution_count": 71,
      "outputs": []
    },
    {
      "cell_type": "markdown",
      "metadata": {
        "id": "SR6kjjFFdkG7"
      },
      "source": [
        "Сформируем id для продуктов и пользователей"
      ]
    },
    {
      "cell_type": "code",
      "metadata": {
        "id": "_GzfPzELc2zF"
      },
      "source": [
        "df_eda = generate_int_id(df_eda, 'userid_num')\n",
        "df_eda = generate_int_id(df_eda, 'itemid_num')"
      ],
      "execution_count": 72,
      "outputs": []
    },
    {
      "cell_type": "markdown",
      "metadata": {
        "id": "XOJow_X7d6Hq"
      },
      "source": [
        "Создадим столбец с обобщенными данными по признакам товаров"
      ]
    },
    {
      "cell_type": "code",
      "metadata": {
        "id": "86NCm0utdaiT"
      },
      "source": [
        "df_eda['item_features'] = create_features(\n",
        "    df_eda, list_item_features, 'itemid_num')"
      ],
      "execution_count": 73,
      "outputs": []
    },
    {
      "cell_type": "markdown",
      "metadata": {
        "id": "AUzP5FpckswZ"
      },
      "source": [
        "Создадим признаки для передачи в модель"
      ]
    },
    {
      "cell_type": "code",
      "metadata": {
        "id": "ZYLecpqcfC4T"
      },
      "source": [
        "item_feature_list = generate_feature_list(df_eda, list_item_features)"
      ],
      "execution_count": 74,
      "outputs": []
    },
    {
      "cell_type": "code",
      "metadata": {
        "id": "pnwdH4Pak5Pp"
      },
      "source": [
        "dataset = DS()\n",
        "dataset.fit(\n",
        "    set(df_eda['userid_num']),\n",
        "    set(df_eda['itemid_num']),\n",
        "    user_features=None,\n",
        "    item_features=item_feature_list)"
      ],
      "execution_count": 75,
      "outputs": []
    },
    {
      "cell_type": "code",
      "metadata": {
        "id": "_32WkQHZlHV3"
      },
      "source": [
        "item_features = dataset.build_item_features(df_eda['item_features'])"
      ],
      "execution_count": 76,
      "outputs": []
    },
    {
      "cell_type": "markdown",
      "metadata": {
        "id": "r0uSpBwulYij"
      },
      "source": [
        "Протестируем модель с добавлением признаков товаров"
      ]
    },
    {
      "cell_type": "code",
      "metadata": {
        "id": "Ur1YBRxqpAvB"
      },
      "source": [
        "# число потоков процессора\n",
        "NUM_THREADS = 12 \n",
        "\n",
        "# число параметров вектора \n",
        "NUM_COMPONENTS = 160 \n",
        "\n",
        "# число эпох обучения\n",
        "NUM_EPOCHS = 20"
      ],
      "execution_count": 77,
      "outputs": []
    },
    {
      "cell_type": "code",
      "metadata": {
        "id": "y-VksqPRpCWs"
      },
      "source": [
        "# Создаем модель\n",
        "model = LightFM(learning_rate=0.09, loss='logistic', learning_schedule='adagrad',\n",
        "                no_components=NUM_COMPONENTS, random_state=32)"
      ],
      "execution_count": 78,
      "outputs": []
    },
    {
      "cell_type": "code",
      "metadata": {
        "id": "zpkwazGFmclX"
      },
      "source": [
        "#Обучаем модель\n",
        "model = model.fit(train_m, epochs=NUM_EPOCHS,\n",
        "                  num_threads=NUM_THREADS, item_features=item_features)"
      ],
      "execution_count": 79,
      "outputs": []
    },
    {
      "cell_type": "code",
      "metadata": {
        "id": "MH-AJJLnmpJ_"
      },
      "source": [
        "preds = model.predict(test_m.row, test_m.col, item_features=item_features)"
      ],
      "execution_count": 80,
      "outputs": []
    },
    {
      "cell_type": "code",
      "metadata": {
        "id": "YlRunN8dpjL7",
        "outputId": "9861b4ea-1a2e-44b4-f1f5-ffde19095d51",
        "colab": {
          "base_uri": "https://localhost:8080/"
        }
      },
      "source": [
        "sklearn.metrics.roc_auc_score(test_m.data, preds)"
      ],
      "execution_count": 81,
      "outputs": [
        {
          "output_type": "execute_result",
          "data": {
            "text/plain": [
              "0.7002068088350014"
            ]
          },
          "metadata": {
            "tags": []
          },
          "execution_count": 81
        }
      ]
    },
    {
      "cell_type": "markdown",
      "metadata": {
        "id": "HKWTDH3ypy73"
      },
      "source": [
        "**Выводы:**\n",
        "- Значением метрики ухудшилось.\n",
        "- Добавление признаков дает возможность делать рекомендации новым покупателям, а также рекомендовать покупателям новые товары, однако это ухудшает общее качество метрики.\n",
        "- В связи с этим брать в работу дополнительные признаки из файла .json, а также преобразовывать признаки из test не будем.\n",
        "- Варианты выбора моделей, улучшения их качества, а также обработки и добавления дополнительных признаков отработаны."
      ]
    },
    {
      "cell_type": "markdown",
      "metadata": {
        "id": "rW-G_1JYqg7n"
      },
      "source": [
        "## Дополнительные гипотезы\n",
        "- Внимание: данные методы могут быть неприменимы к реальным условиям, однако мы работаем с предложенными данными и ничего не мешает нам выявить некоторые закономерности в имеющихся датасетах.\n",
        "- Посмотрим, как можно обогатить предложенный датасет test для Kaggle"
      ]
    },
    {
      "cell_type": "markdown",
      "metadata": {
        "id": "FkeBali58qDZ"
      },
      "source": [
        "**Посмотрим на пользователей в train и test**"
      ]
    },
    {
      "cell_type": "code",
      "metadata": {
        "id": "RMGopeZfprhv"
      },
      "source": [
        "user_train = set(train.userid)\n",
        "user_test = set(test.userid)"
      ],
      "execution_count": 82,
      "outputs": []
    },
    {
      "cell_type": "code",
      "metadata": {
        "id": "2l8-Yq3z8zKG",
        "outputId": "e951d442-2f91-4a9c-a598-62b8da73d797",
        "colab": {
          "base_uri": "https://localhost:8080/"
        }
      },
      "source": [
        "print('Пользователей в трейн:', len(user_train))\n",
        "print('Пользователей в тест:', len(user_test))\n",
        "print('Пользователей, которые есть в трейн, но нет в тест:',\n",
        "      len(user_test-user_train))"
      ],
      "execution_count": 83,
      "outputs": [
        {
          "output_type": "stream",
          "text": [
            "Пользователей в трейн: 127448\n",
            "Пользователей в тест: 109357\n",
            "Пользователей, которые есть в трейн, но нет в тест: 48\n"
          ],
          "name": "stdout"
        }
      ]
    },
    {
      "cell_type": "markdown",
      "metadata": {
        "id": "s6DR0NtT86YL"
      },
      "source": [
        "**Вывод:** У нас всего 48 пользователей, которые есть в train, но нет в test, а это значит, что в данном случае мы можем \"перетащить\" некоторые свойства присущие пользователям в тестовую выборку."
      ]
    },
    {
      "cell_type": "markdown",
      "metadata": {
        "id": "65Gmgz9v9gum"
      },
      "source": [
        "**Идея для тестирования:**\n",
        "- Создадим свойство покупателя, которое будет показывать как данный покупатель в среднем оценивает товар.\n",
        "- Перенесем данное свойство в тестовый набор данных.\n",
        "- Для 48-ми пользователей, которых нет в train, среднюю оценку сделаем нулевой.\n",
        "- Сформируем на основе нового свойства дополнительный параметр для обучения модели и протестируем результат на платформе kaggle."
      ]
    },
    {
      "cell_type": "code",
      "metadata": {
        "id": "8Y-rdKVN80x3"
      },
      "source": [
        "# Создадим среднюю оценку для каждого пользователя\n",
        "# Перенесем параметр в тестовый дата сет\n",
        "overoll_mean = train.groupby(['userid'])['overall'].mean()\n",
        "train['overall_mean'] = train.userid.apply(lambda x: overoll_mean[x])\n",
        "test['overall_mean'] = test.userid.apply(\n",
        "    lambda x: overoll_mean[x] if x in user_train else 0)"
      ],
      "execution_count": 84,
      "outputs": []
    },
    {
      "cell_type": "markdown",
      "metadata": {
        "id": "PnD-mxpC-3tQ"
      },
      "source": [
        "Будем считать, что если средняя оценка пользователя по всем товарам более 3.5, то товары в магазине ему в основном нравятся. В противном случае, товары пользователю в основном не нравятся."
      ]
    },
    {
      "cell_type": "code",
      "metadata": {
        "id": "ciuXHEIh-vZV"
      },
      "source": [
        "train['overall_mean'] = (train['overall_mean'] >= 3.5).astype('int32')\n",
        "test['overall_mean'] = (test['overall_mean'] >= 3.5).astype('int32')"
      ],
      "execution_count": 85,
      "outputs": []
    },
    {
      "cell_type": "markdown",
      "metadata": {
        "id": "GWqGo3TWAvhN"
      },
      "source": [
        "Подготовим признак user_features для модели"
      ]
    },
    {
      "cell_type": "code",
      "metadata": {
        "id": "Xz2uZg3PAqOv"
      },
      "source": [
        "list_user_features = ['overall_mean']"
      ],
      "execution_count": 86,
      "outputs": []
    },
    {
      "cell_type": "code",
      "metadata": {
        "id": "cLSRJ32eBaF8"
      },
      "source": [
        "# Формируем списки Id для пользователей и продуктов\n",
        "train = generate_int_id(train, 'userid_num')\n",
        "test = generate_int_id(test, 'userid_num')\n",
        "train = generate_int_id(train, 'itemid_num')\n",
        "test = generate_int_id(test, 'itemid_num')"
      ],
      "execution_count": 87,
      "outputs": []
    },
    {
      "cell_type": "code",
      "metadata": {
        "id": "92qEwmONBaqm"
      },
      "source": [
        "# создание признаков для передачи в алгоритм\n",
        "train['user_features'] = create_features(\n",
        "    train, list_user_features, 'userid_num')\n",
        "test['user_features'] = create_features(\n",
        "    test, list_user_features, 'userid_num')"
      ],
      "execution_count": 88,
      "outputs": []
    },
    {
      "cell_type": "code",
      "metadata": {
        "id": "PEbrO1WUBdLt"
      },
      "source": [
        "# генерация списка признаков\n",
        "user_feature_list = generate_feature_list(train, list_user_features)"
      ],
      "execution_count": 89,
      "outputs": []
    },
    {
      "cell_type": "code",
      "metadata": {
        "id": "rGhlXiiiCwtM"
      },
      "source": [
        "dataset = DS()\n",
        "dataset.fit(\n",
        "    set(train['userid_num']),\n",
        "    set(train['itemid_num']),\n",
        "    user_features=user_feature_list,\n",
        "    item_features=None)"
      ],
      "execution_count": 90,
      "outputs": []
    },
    {
      "cell_type": "code",
      "metadata": {
        "id": "xwL3qxCkDRE0"
      },
      "source": [
        "user_features = dataset.build_user_features(train['user_features'])"
      ],
      "execution_count": 91,
      "outputs": []
    },
    {
      "cell_type": "code",
      "metadata": {
        "id": "6Tbgf6AyDUxV"
      },
      "source": [
        "# генерация списка признаков test\n",
        "user_feature_list_test = generate_feature_list(test, list_user_features)"
      ],
      "execution_count": 92,
      "outputs": []
    },
    {
      "cell_type": "code",
      "metadata": {
        "id": "yqL_csPhDZzN"
      },
      "source": [
        "dataset.fit(\n",
        "    set(test['userid_num']),\n",
        "    set(test['userid_num']),\n",
        "    user_features=user_feature_list,\n",
        "    item_features=None)"
      ],
      "execution_count": 93,
      "outputs": []
    },
    {
      "cell_type": "code",
      "metadata": {
        "id": "Kv2Q_0ycDcJN"
      },
      "source": [
        "user_features_test = dataset.build_user_features(test['user_features'])"
      ],
      "execution_count": 94,
      "outputs": []
    },
    {
      "cell_type": "markdown",
      "metadata": {
        "id": "faff7mQODdVi"
      },
      "source": [
        "**Обучим модель с дополнительными признаками user_features**"
      ]
    },
    {
      "cell_type": "code",
      "metadata": {
        "id": "zdpzpb6PDoxS"
      },
      "source": [
        "# Обучаем на всём трейн\n",
        "model = model.fit(ratings_coo, epochs=NUM_EPOCHS,\n",
        "                  num_threads=NUM_THREADS, user_features=user_features)"
      ],
      "execution_count": 95,
      "outputs": []
    },
    {
      "cell_type": "markdown",
      "metadata": {
        "id": "m17n9IjbD9Wu"
      },
      "source": [
        "Протестируем на Kaggle"
      ]
    },
    {
      "cell_type": "code",
      "metadata": {
        "id": "c-IYvCuIEA0I"
      },
      "source": [
        "preds = model.predict(test.userid.values,\n",
        "                      test.itemid.values, user_features=user_features_test)"
      ],
      "execution_count": 96,
      "outputs": []
    },
    {
      "cell_type": "code",
      "metadata": {
        "id": "SJ3g8Mr2EDRl",
        "outputId": "c1fcd437-20ea-4630-beb8-ca422de822f2",
        "colab": {
          "base_uri": "https://localhost:8080/"
        }
      },
      "source": [
        "preds.min(), preds.max()"
      ],
      "execution_count": 97,
      "outputs": [
        {
          "output_type": "execute_result",
          "data": {
            "text/plain": [
              "(-18.518383026123047, 23.903488159179688)"
            ]
          },
          "metadata": {
            "tags": []
          },
          "execution_count": 97
        }
      ]
    },
    {
      "cell_type": "markdown",
      "metadata": {
        "id": "L-U41nrCEwYY"
      },
      "source": [
        "Нормализуем"
      ]
    },
    {
      "cell_type": "code",
      "metadata": {
        "id": "CMZjHjUoEEpF",
        "outputId": "0597c7ff-a33a-481d-f466-09486372565f",
        "colab": {
          "base_uri": "https://localhost:8080/"
        }
      },
      "source": [
        "normalized_preds = (preds - preds.min())/(preds - preds.min()).max()\n",
        "normalized_preds.min(), normalized_preds.max()"
      ],
      "execution_count": 98,
      "outputs": [
        {
          "output_type": "execute_result",
          "data": {
            "text/plain": [
              "(0.0, 1.0)"
            ]
          },
          "metadata": {
            "tags": []
          },
          "execution_count": 98
        }
      ]
    },
    {
      "cell_type": "markdown",
      "metadata": {
        "id": "pncA7BUEE09F"
      },
      "source": [
        "Submission"
      ]
    },
    {
      "cell_type": "code",
      "metadata": {
        "id": "x3kHja06EF4s",
        "outputId": "543bbde1-8dfb-4831-bda0-7699011b7eed",
        "colab": {
          "base_uri": "https://localhost:8080/",
          "height": 419
        }
      },
      "source": [
        "submission['rating'] = normalized_preds\n",
        "submission"
      ],
      "execution_count": 99,
      "outputs": [
        {
          "output_type": "execute_result",
          "data": {
            "text/html": [
              "<div>\n",
              "<style scoped>\n",
              "    .dataframe tbody tr th:only-of-type {\n",
              "        vertical-align: middle;\n",
              "    }\n",
              "\n",
              "    .dataframe tbody tr th {\n",
              "        vertical-align: top;\n",
              "    }\n",
              "\n",
              "    .dataframe thead th {\n",
              "        text-align: right;\n",
              "    }\n",
              "</style>\n",
              "<table border=\"1\" class=\"dataframe\">\n",
              "  <thead>\n",
              "    <tr style=\"text-align: right;\">\n",
              "      <th></th>\n",
              "      <th>Id</th>\n",
              "      <th>rating</th>\n",
              "    </tr>\n",
              "  </thead>\n",
              "  <tbody>\n",
              "    <tr>\n",
              "      <th>0</th>\n",
              "      <td>0</td>\n",
              "      <td>0.451175</td>\n",
              "    </tr>\n",
              "    <tr>\n",
              "      <th>1</th>\n",
              "      <td>1</td>\n",
              "      <td>0.438368</td>\n",
              "    </tr>\n",
              "    <tr>\n",
              "      <th>2</th>\n",
              "      <td>2</td>\n",
              "      <td>0.424507</td>\n",
              "    </tr>\n",
              "    <tr>\n",
              "      <th>3</th>\n",
              "      <td>3</td>\n",
              "      <td>0.420692</td>\n",
              "    </tr>\n",
              "    <tr>\n",
              "      <th>4</th>\n",
              "      <td>4</td>\n",
              "      <td>0.447547</td>\n",
              "    </tr>\n",
              "    <tr>\n",
              "      <th>...</th>\n",
              "      <td>...</td>\n",
              "      <td>...</td>\n",
              "    </tr>\n",
              "    <tr>\n",
              "      <th>285960</th>\n",
              "      <td>285960</td>\n",
              "      <td>0.451608</td>\n",
              "    </tr>\n",
              "    <tr>\n",
              "      <th>285961</th>\n",
              "      <td>285961</td>\n",
              "      <td>0.410453</td>\n",
              "    </tr>\n",
              "    <tr>\n",
              "      <th>285962</th>\n",
              "      <td>285962</td>\n",
              "      <td>0.436233</td>\n",
              "    </tr>\n",
              "    <tr>\n",
              "      <th>285963</th>\n",
              "      <td>285963</td>\n",
              "      <td>0.446037</td>\n",
              "    </tr>\n",
              "    <tr>\n",
              "      <th>285964</th>\n",
              "      <td>285964</td>\n",
              "      <td>0.451874</td>\n",
              "    </tr>\n",
              "  </tbody>\n",
              "</table>\n",
              "<p>285965 rows × 2 columns</p>\n",
              "</div>"
            ],
            "text/plain": [
              "            Id    rating\n",
              "0            0  0.451175\n",
              "1            1  0.438368\n",
              "2            2  0.424507\n",
              "3            3  0.420692\n",
              "4            4  0.447547\n",
              "...        ...       ...\n",
              "285960  285960  0.451608\n",
              "285961  285961  0.410453\n",
              "285962  285962  0.436233\n",
              "285963  285963  0.446037\n",
              "285964  285964  0.451874\n",
              "\n",
              "[285965 rows x 2 columns]"
            ]
          },
          "metadata": {
            "tags": []
          },
          "execution_count": 99
        }
      ]
    },
    {
      "cell_type": "markdown",
      "metadata": {
        "id": "xLo6yJvzENCr"
      },
      "source": [
        "**Вывод по разделу:**\n",
        "- Тестирование данной гипотезы дало результат 0.75122 - неплохой результат, но не лучший из имеющихся.\n",
        "- Второе предположение: усреднить предсказания моделей без дополнительных признаков и с дополнительными признаками.\n",
        "- В результате тестирования второй гипотезы получен лучший результат: 0.77793 и 3-е место на лидерборде Kaggle на день тестирования."
      ]
    },
    {
      "cell_type": "markdown",
      "metadata": {
        "id": "1dMfnAgA03f-"
      },
      "source": [
        "В результате улучшения качества метрики, протестирован аналогичный подход применительно к товарам."
      ]
    },
    {
      "cell_type": "code",
      "metadata": {
        "id": "g64FteRT0mCA"
      },
      "source": [
        "item_train = set(train.itemid)\n",
        "item_test = set(test.itemid)"
      ],
      "execution_count": 100,
      "outputs": []
    },
    {
      "cell_type": "code",
      "metadata": {
        "id": "BLSFQ9Xx1Mmb",
        "outputId": "b30673d9-dd63-490f-be04-de61e007d3b0",
        "colab": {
          "base_uri": "https://localhost:8080/"
        }
      },
      "source": [
        "print('Товары в трейн:', len(item_train))\n",
        "print('Товары в тест:', len(item_test))\n",
        "print('Товары, которые есть в трейн, но нет в тест:', len(item_test-item_train))"
      ],
      "execution_count": 101,
      "outputs": [
        {
          "output_type": "stream",
          "text": [
            "Товары в трейн: 41302\n",
            "Товары в тест: 37876\n",
            "Товары, которые есть в трейн, но нет в тест: 18\n"
          ],
          "name": "stdout"
        }
      ]
    },
    {
      "cell_type": "markdown",
      "metadata": {
        "id": "VA6tjZIX1O49"
      },
      "source": [
        "**Предварительный вывод:** Получили всего 18 товаров в тесте, которых нет в train, значит метод добавления признака средней оценки, используемый для покупателей, применим и для товаров.\n",
        "\n",
        "Сформируем признак для товаров"
      ]
    },
    {
      "cell_type": "code",
      "metadata": {
        "id": "vjfFz-aq1s9W"
      },
      "source": [
        "overoll_mean_item = train.groupby(['itemid'])['overall'].mean()\n",
        "\n",
        "train['overoll_mean_item'] = train.itemid.apply(lambda x: overoll_mean_item[x])\n",
        "test['overoll_mean_item'] = test.itemid.apply(\n",
        "    lambda x: overoll_mean_item[x] if x in item_train else 0)\n",
        "\n",
        "train['overoll_mean_item'] = (\n",
        "    train['overoll_mean_item'] >= 3.5).astype('int32')\n",
        "test['overoll_mean_item'] = (test['overoll_mean_item'] >= 3.5).astype('int32')\n",
        "\n",
        "list_item_features = ['overoll_mean_item']"
      ],
      "execution_count": 102,
      "outputs": []
    },
    {
      "cell_type": "markdown",
      "metadata": {
        "id": "4kH5uxer2IWs"
      },
      "source": [
        "- Дальнейшие действия со средней оценкой товаров строго аналогичны действиям по добавлению пользовательской средней оценки.\n",
        "- В связи с длительностью вычислений в итоговом ноутбуке приведем только итоги данной работы.\n",
        "- В результате добавления признаков товаров, удалось поднять итоговую метрику до максимального значения: 0.78036 и сохранить 3-е место на лидерборде Kaggle на день размещения результата."
      ]
    },
    {
      "cell_type": "markdown",
      "metadata": {
        "id": "D1PQkVjj3NXr"
      },
      "source": [
        "## Итоги проекта\n",
        "- Познакомились с библиотекой Lightfm для построения рекомендательной системы.\n",
        "- Настроили базовую модель, получили базовую метрику ROC AUC предсказаний модели на уровне 0.745.\n",
        "- Протестировали входные данные, попробовали убрать дубли, но результат ухудшился на 4% по сравнению с базовой моделью.\n",
        "- Попробовали сбалансировать тренировочный датасет по целевой переменной. Это привело к переобучению модели: на тренировочных данных, разбитых на train и test, результат предсказаний улучшился до 90%, однако результат на тестовых данных для Kaggle ухудшился до 55%.\n",
        "- Подобрали гиперпараметры базовой модели. Посмотрели графически влияние переменных: Learning rate, количество эпох обучения и число компонентов вектора на качество предсказания модели.\n",
        "- С оптимальными параметрами score на платформе Kaggle составил 0.77139, что соответствовало 7-му месту на лидерборде на момент публикации результатов. Таким образом, настройка модели даже без дополнительных признаков дала очень хороший прирост качества.\n",
        "- Протестировали альтернативный подход – SVD-модель. Получен результат 0.74679.\n",
        "- Подобрали гиперпараметры SVD-модели. Результат улучшился до 0.76104. Результат хороший, но хуже, чем у Lightfm-модели, поэтому в дальнейшем продолжили тестирование на ней.\n",
        "- Для решения проблемы холодного старта решили добавить в модель дополнительные признаки товаров.\n",
        "- Провели анализ признаков на пропуски, влияние их на целевую переменную и корреляцию между собой. Отобранные в результате анализа признаки преобразовали в формат для передачи в модель.\n",
        "- Качество предсказаний модели ожидаемо ухудшилось до 0.700.\n",
        "- Провели эксперимент по добавлению среднего уровня оценки товаров пользователями в модель, как признак покупателя. Результат метрики неплохой, но не лучший 0.75122.\n",
        "- Усреднили предсказания модели без дополнительных признаков и с добавлением признаков пользователей. Результат метрики улучшился до максимума за всё предыдущее время 0.77793, что соответствует 3-му месту на лидерборде Kaggle на день публикации.\n",
        "- Вдохновившись успехом, добавили в модель среднюю оценку товаров, как дополнительный признак для товаров. Аналогичным образом усреднили предсказания модели без дополнительных признаков и с модели с добавлением признаков товаров и пользователей. Получили максимальный окончательный результат метрики 0.78036, что также соответствует 3-му место лидерборда Kaggle.\n",
        "\n",
        "\n",
        "**Общий вывод:** Сформирована эффективная рекомендательная система для интернет-магазина. Научились работать со специализированными библиотеками и настраивать их параметры. Правильная настройка гиперпараметров модели дает существенный прирост качества предсказаний. Проанализированы и подготовлены данные для модели из предлагаемых дата сетов. Протестированы альтернативные гипотезы, которые улучшают качество модели в существующих условиях. Получен качественный результат предсказаний модели.\n",
        "\n"
      ]
    },
    {
      "cell_type": "code",
      "metadata": {
        "id": "LI2e9Y0g15T1"
      },
      "source": [
        ""
      ],
      "execution_count": null,
      "outputs": []
    }
  ]
}